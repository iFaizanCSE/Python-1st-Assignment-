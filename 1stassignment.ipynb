{
  "nbformat": 4,
  "nbformat_minor": 0,
  "metadata": {
    "colab": {
      "provenance": []
    },
    "kernelspec": {
      "name": "python3",
      "display_name": "Python 3"
    },
    "language_info": {
      "name": "python"
    }
  },
  "cells": [
    {
      "cell_type": "code",
      "execution_count": null,
      "metadata": {
        "id": "2PsKPEl62L2F"
      },
      "outputs": [],
      "source": []
    },
    {
      "cell_type": "markdown",
      "source": [
        "1. What is Python, and why is it popular?\n",
        "    - Python is a general-purpose programming language created by Guido van Rossum in the 1980s. It is incredibly versatile, flexible, and beginner-friendly; hence is 2023's most popular programming language worldwide. Python is the most popular yet easiest programming language to learn\n",
        "2. What is an interpreter in Python?\n",
        "     - A python interpreter is a computer program that converts each high-level program statement into machine code. An interpreter translates the command that you write out into code that the computer can understand\n",
        "3. What are pre-defined keywords in Python?\n",
        "     - Python Keywords are some predefined and reserved words in Python that have special meanings. Keywords are used to define the syntax of the coding. The keyword cannot be used as an identifier, function, or variable name. All the keywords in Python are written in lowercase except True and False.\n",
        "4. Can keywords be used as variable names?\n",
        "     - No, keywords cannot be used as variable names because they are reserved words that define the structure and syntax rules of a programming language.\n",
        "5. What is mutability in Python?\n",
        "     - In Python, mutability refers to the ability of an object to be changed after it is created.\n",
        "6. Why are lists mutable, but tuples are immutable?\n",
        "     -The main difference between tuples and lists is that tuples are immutable, meaning their contents cannot be changed after creation, while lists are mutable and can be modified. Additionally, tuples are more memory-efficient compared to lists.\n",
        "7.What is the difference between “==” and “is” operators in Python?\n",
        "    - In Python, the == and is operators are used for comparisons, but they have different functionalities \"==\" Operator, checks for equality: This operator compares the values of two objects. \"is\" Operator,checks for identity: This operator checks if two variables refer to the same object in memory.\n",
        "8. What are logical operators in Python?\n",
        "     - In Python, logical operators are used to combine multiple conditions together and evaluate them as a single boolean expression. There are three types of logical operators in Python: \"and\", \"or\", and \"not\". The \"and\" operator returns \"true\" if both conditions it is evaluating are true, otherwise it returns \"false\" .\n",
        "9. What is type casting in Python?\n",
        "     - Type casting in Python, also known as type conversion, is the process of converting a value from one data type to another.\n",
        "10. What is the difference between implicit and explicit type casting?\n",
        "      - Implicit type conversion is performed by a Python interpreter only. Explicit type conversion is performed by the user by explicitly using type conversion functions in the program code. Explicit type conversion is also known as typecasting. Python, when performing implicit type casting, avoids the loss of data.\n",
        "11. What is the purpose of conditional statements in Python?\n",
        "     - A conditional statement as the name suggests itself, is used to handle conditions in your program. These statements guide the program while making decisions based on the conditions encountered by the program.\n",
        "12. How does the elif statement work?\n",
        "     - The “elif” keyword in Python, stands for “else if”. It can be used in conditional statements to check for multiple conditions. For example, if the first condition is false, it moves on to the next “elif” statement to check if that condition is true.\n",
        "13. What is the difference between for and while loops?\n",
        "     - Both for loop and while loop is used to execute the statements repeatedly while the program runs. The major difference between for loop and while loop is that for loop is used when the number of iterations is known, whereas execution is done in a while loop until the statement in the program is proved wrong.\n",
        "14.  Describe a scenario where a while loop is more suitable than a for loop.\n",
        "     - If you are asking a user to input a number between 1 and 10, and want to keep prompting them until they provide a valid input, a while loop is ideal. You would set a condition to check if the input is within the desired range, and the loop would continue until that condition is met.\n",
        "Practical Questions\n",
        "\n",
        "\n"
      ],
      "metadata": {
        "id": "1QDQQlSaI1ld"
      }
    },
    {
      "cell_type": "markdown",
      "source": [
        "**Practical Questions**"
      ],
      "metadata": {
        "id": "kCQtAMAyhI00"
      }
    },
    {
      "cell_type": "markdown",
      "source": [],
      "metadata": {
        "id": "Kuy9GVnO2PDf"
      }
    },
    {
      "cell_type": "code",
      "source": [],
      "metadata": {
        "id": "_6s3J-A82P0X"
      },
      "execution_count": null,
      "outputs": []
    },
    {
      "cell_type": "markdown",
      "source": [
        " 1. Write a Python program to print \"Hello, World!\n",
        ""
      ],
      "metadata": {
        "id": "11aczJ6chV-8"
      }
    },
    {
      "cell_type": "code",
      "source": [
        "print(\"hello world \")"
      ],
      "metadata": {
        "colab": {
          "base_uri": "https://localhost:8080/"
        },
        "id": "B46RPtG9hckN",
        "outputId": "4af33bbe-9c52-4487-f11a-672442afd922"
      },
      "execution_count": 1,
      "outputs": [
        {
          "output_type": "stream",
          "name": "stdout",
          "text": [
            "hello world \n"
          ]
        }
      ]
    },
    {
      "cell_type": "markdown",
      "source": [
        "2. Write a Python program that displays your name and age.\n"
      ],
      "metadata": {
        "id": "ECZCEdGOhwWi"
      }
    },
    {
      "cell_type": "code",
      "source": [
        "name = input(\"Enter your name: \")\n",
        "age = int(input(\"Enter your age: \"))\n",
        "\n",
        "print(\"Your name is:\", name)\n",
        "print(\"Your age is:\", age)"
      ],
      "metadata": {
        "colab": {
          "base_uri": "https://localhost:8080/"
        },
        "id": "1QKSHd_Lh-Jq",
        "outputId": "dab33bee-7300-497f-fe55-97f65fc79dc5"
      },
      "execution_count": 2,
      "outputs": [
        {
          "output_type": "stream",
          "name": "stdout",
          "text": [
            "Enter your name: Faizan \n",
            "Enter your age: 22\n",
            "Your name is: Faizan \n",
            "Your age is: 22\n"
          ]
        }
      ]
    },
    {
      "cell_type": "markdown",
      "source": [
        "3. Write code to print all the pre-defined keywords in Python using the keyword library."
      ],
      "metadata": {
        "id": "gCXdxgF4iGSn"
      }
    },
    {
      "cell_type": "code",
      "source": [
        "import keyword\n",
        "\n",
        "print(keyword.kwlist)"
      ],
      "metadata": {
        "colab": {
          "base_uri": "https://localhost:8080/"
        },
        "id": "Kpbfq6kqiMgy",
        "outputId": "4da8823d-4a6b-4b54-b467-9e85f8843840"
      },
      "execution_count": 3,
      "outputs": [
        {
          "output_type": "stream",
          "name": "stdout",
          "text": [
            "['False', 'None', 'True', 'and', 'as', 'assert', 'async', 'await', 'break', 'class', 'continue', 'def', 'del', 'elif', 'else', 'except', 'finally', 'for', 'from', 'global', 'if', 'import', 'in', 'is', 'lambda', 'nonlocal', 'not', 'or', 'pass', 'raise', 'return', 'try', 'while', 'with', 'yield']\n"
          ]
        }
      ]
    },
    {
      "cell_type": "markdown",
      "source": [
        "4. Write a program that checks if a given word is a Python keyword?"
      ],
      "metadata": {
        "id": "PZpMOGVkiXBR"
      }
    },
    {
      "cell_type": "code",
      "source": [
        "import keyword\n",
        "\n",
        "keywords = keyword.kwlist\n",
        "\n",
        "for kw in keywords:\n",
        "    print(kw)"
      ],
      "metadata": {
        "colab": {
          "base_uri": "https://localhost:8080/"
        },
        "id": "wDR-omcQiaJ_",
        "outputId": "92495f29-e7e8-4f74-f217-e2a3f4669242"
      },
      "execution_count": 4,
      "outputs": [
        {
          "output_type": "stream",
          "name": "stdout",
          "text": [
            "False\n",
            "None\n",
            "True\n",
            "and\n",
            "as\n",
            "assert\n",
            "async\n",
            "await\n",
            "break\n",
            "class\n",
            "continue\n",
            "def\n",
            "del\n",
            "elif\n",
            "else\n",
            "except\n",
            "finally\n",
            "for\n",
            "from\n",
            "global\n",
            "if\n",
            "import\n",
            "in\n",
            "is\n",
            "lambda\n",
            "nonlocal\n",
            "not\n",
            "or\n",
            "pass\n",
            "raise\n",
            "return\n",
            "try\n",
            "while\n",
            "with\n",
            "yield\n"
          ]
        }
      ]
    },
    {
      "cell_type": "markdown",
      "source": [
        "5. Create a list and tuple in Python, and demonstrate how attempting to change an element works differently for each?"
      ],
      "metadata": {
        "id": "D6rX4JVcippa"
      }
    },
    {
      "cell_type": "code",
      "source": [
        "# Creating a list\n",
        "my_list = [\"apple\", \"banana\", \"orange\"]\n",
        "\n",
        "# Creating a tuple\n",
        "my_tuple = (\"mango\", \"grape\", \"kiwi\")\n",
        "\n",
        "# Trying to change an element in the list\n",
        "print(\"Original list:\", my_list)\n",
        "my_list[1] = \"pear\"  # This works, as lists are mutable\n",
        "print(\"Updated list:\", my_list)\n",
        "\n",
        "# Trying to change an element in the tuple (will raise an error)\n",
        "print(\"Original tuple:\", my_tuple)\n",
        "try:\n",
        "    my_tuple[1] = \"pineapple\"  # This will raise a TypeError\n",
        "except TypeError as e:\n",
        "    print(\"Error:\", e)"
      ],
      "metadata": {
        "colab": {
          "base_uri": "https://localhost:8080/"
        },
        "id": "mTAu-cE0i8vB",
        "outputId": "24f45684-3ea6-4233-ded0-3f5454f6afaa"
      },
      "execution_count": 5,
      "outputs": [
        {
          "output_type": "stream",
          "name": "stdout",
          "text": [
            "Original list: ['apple', 'banana', 'orange']\n",
            "Updated list: ['apple', 'pear', 'orange']\n",
            "Original tuple: ('mango', 'grape', 'kiwi')\n",
            "Error: 'tuple' object does not support item assignment\n"
          ]
        }
      ]
    },
    {
      "cell_type": "markdown",
      "source": [
        "6. Write a function to demonstrate the behavior of mutable and immutable arguments"
      ],
      "metadata": {
        "id": "5WV6JCfCjfqr"
      }
    },
    {
      "cell_type": "code",
      "source": [
        "def modify_arguments(immutable_arg, mutable_arg):\n",
        "    \"\"\"Demonstrates the behavior of mutable and immutable arguments.\"\"\"\n",
        "\n",
        "    immutable_arg += 1\n",
        "    mutable_arg.append(4)\n",
        "\n",
        "    print(\"Inside the function:\")\n",
        "    print(\"Immutable argument:\", immutable_arg)\n",
        "    print(\"Mutable argument:\", mutable_arg)\n",
        "\n",
        "\n",
        "num = 5\n",
        "my_list = [1, 2, 3]\n",
        "\n",
        "print(\"Before the function call:\")\n",
        "print(\"num:\", num)\n",
        "print(\"my_list:\", my_list)\n",
        "\n",
        "modify_arguments(num, my_list)\n",
        "\n",
        "print(\"After the function call:\")\n",
        "print(\"num:\", num)\n",
        "print(\"my_list:\", my_list)"
      ],
      "metadata": {
        "colab": {
          "base_uri": "https://localhost:8080/"
        },
        "id": "W4RjedusjvFx",
        "outputId": "af9c5a2e-b3a7-4c7f-c315-f718f77ef4dd"
      },
      "execution_count": 7,
      "outputs": [
        {
          "output_type": "stream",
          "name": "stdout",
          "text": [
            "Before the function call:\n",
            "num: 5\n",
            "my_list: [1, 2, 3]\n",
            "Inside the function:\n",
            "Immutable argument: 6\n",
            "Mutable argument: [1, 2, 3, 4]\n",
            "After the function call:\n",
            "num: 5\n",
            "my_list: [1, 2, 3, 4]\n"
          ]
        }
      ]
    },
    {
      "cell_type": "markdown",
      "source": [
        "7. 7 is same as question 6."
      ],
      "metadata": {
        "id": "qxhiEGitkQ3E"
      }
    },
    {
      "cell_type": "markdown",
      "source": [
        "8. Write a program to demonstrate the use of logical operators?"
      ],
      "metadata": {
        "id": "M-ousNfMkDtL"
      }
    },
    {
      "cell_type": "code",
      "source": [
        "# Logical AND (and)\n",
        "a = True\n",
        "b = False\n",
        "if a and b:\n",
        "    print(\"Both a and b are True\")\n",
        "else:\n",
        "    print(\"At least one of a or b is False\")\n",
        "\n",
        "# Logical OR (or)\n",
        "c = True\n",
        "d = False\n",
        "if c or d:\n",
        "    print(\"At least one of c or d is True\")\n",
        "else:\n",
        "    print(\"Both c and d are False\")\n",
        "\n",
        "# Logical NOT (not)\n",
        "e = True\n",
        "if not e:\n",
        "    print(\"e is False\")\n",
        "else:\n",
        "    print(\"e is True\")"
      ],
      "metadata": {
        "colab": {
          "base_uri": "https://localhost:8080/"
        },
        "id": "ho7wahJykXZw",
        "outputId": "7aba06f6-2100-41d7-a658-1637e1aa2ef4"
      },
      "execution_count": 8,
      "outputs": [
        {
          "output_type": "stream",
          "name": "stdout",
          "text": [
            "At least one of a or b is False\n",
            "At least one of c or d is True\n",
            "e is True\n"
          ]
        }
      ]
    },
    {
      "cell_type": "markdown",
      "source": [
        "9. Write a Python program to convert user input from string to integer, float, and boolean types."
      ],
      "metadata": {
        "id": "d9rLS-wNkjVS"
      }
    },
    {
      "cell_type": "code",
      "source": [
        "def convert_input():\n",
        "    \"\"\"Converts user input to integer, float, or boolean.\"\"\"\n",
        "\n",
        "    user_input = input(\"Enter a value: \")\n",
        "\n",
        "    try:\n",
        "        # Try converting to integer\n",
        "        int_value = int(user_input)\n",
        "        print(\"Integer:\", int_value)\n",
        "    except ValueError:\n",
        "        try:\n",
        "            # Try converting to float\n",
        "            float_value = float(user_input)\n",
        "            print(\"Float:\", float_value)\n",
        "        except ValueError:\n",
        "            # Check for boolean values\n",
        "            if user_input.lower() == \"true\":\n",
        "                bool_value = True\n",
        "                print(\"Boolean:\", bool_value)\n",
        "            elif user_input.lower() == \"false\":\n",
        "                bool_value = False\n",
        "                print(\"Boolean:\", bool_value)\n",
        "            else:\n",
        "                print(\"Invalid input. Could not convert to integer, float, or boolean.\")\n",
        "\n",
        "if __name__ == \"__main__\":\n",
        "    convert_input()"
      ],
      "metadata": {
        "colab": {
          "base_uri": "https://localhost:8080/"
        },
        "id": "oIr1jNHNkuGw",
        "outputId": "ed095cbf-e396-4ddc-8a15-3ba284accbc0"
      },
      "execution_count": 10,
      "outputs": [
        {
          "output_type": "stream",
          "name": "stdout",
          "text": [
            "Enter a value: 1234\n",
            "Integer: 1234\n"
          ]
        }
      ]
    },
    {
      "cell_type": "markdown",
      "source": [
        "10. Write code to demonstrate type casting with list elements?"
      ],
      "metadata": {
        "id": "tMeJWhPFlExv"
      }
    },
    {
      "cell_type": "code",
      "source": [
        "# Python3 code to demonstrate working of\n",
        "# Type casting whole List\n",
        "\n",
        "# helper function to type cast list\n",
        "def cast_list(test_list, data_type):\n",
        "\treturn list(map(data_type, test_list))\n",
        "\n",
        "# initialize list\n",
        "test_list = [1, 4, 9, 10, 19]\n",
        "# printing original list\n",
        "print(\"The original list is : \" + str(test_list))\n",
        "\n",
        "# Type casting whole List.\n",
        "# using map() + list comprehension\n",
        "res_list = cast_list(test_list, str)\n",
        "\n",
        "# printing result\n",
        "print(\"The List after type casting is : \" + str(res_list))\n"
      ],
      "metadata": {
        "colab": {
          "base_uri": "https://localhost:8080/"
        },
        "id": "ctZIaeYLlJBA",
        "outputId": "613b50d6-2034-4bbe-8f4d-4f8ccd0b1fb4"
      },
      "execution_count": 11,
      "outputs": [
        {
          "output_type": "stream",
          "name": "stdout",
          "text": [
            "The original list is : [1, 4, 9, 10, 19]\n",
            "The List after type casting is : ['1', '4', '9', '10', '19']\n"
          ]
        }
      ]
    },
    {
      "cell_type": "markdown",
      "source": [
        "11. Write a program that checks if a number is positive, negative, or zero."
      ],
      "metadata": {
        "id": "Ed-hoUCjmkKY"
      }
    },
    {
      "cell_type": "code",
      "source": [
        "def check_number(num):\n",
        "    \"\"\"\n",
        "    This function checks if a given number is positive, negative, or zero.\n",
        "\n",
        "    Args:\n",
        "        num: The number to check.\n",
        "\n",
        "    Returns:\n",
        "        A string indicating whether the number is positive, negative, or zero.\n",
        "    \"\"\"\n",
        "    if num > 0:\n",
        "        return \"Positive\"\n",
        "    elif num < 0:\n",
        "        return \"Negative\"\n",
        "    else:\n",
        "        return \"Zero\"\n",
        "\n",
        "# Example usage:\n",
        "user_input = int(input(\"Enter a number: \"))\n",
        "result = check_number(user_input)\n",
        "print(f\"The number {user_input} is {result}.\")"
      ],
      "metadata": {
        "colab": {
          "base_uri": "https://localhost:8080/"
        },
        "id": "cUck6Y9UmzWI",
        "outputId": "7a6a9caa-6e4d-491a-895f-78a3252045f2"
      },
      "execution_count": 12,
      "outputs": [
        {
          "output_type": "stream",
          "name": "stdout",
          "text": [
            "Enter a number: 50\n",
            "The number 50 is Positive.\n"
          ]
        }
      ]
    },
    {
      "cell_type": "markdown",
      "source": [
        "12. Write a for loop to print numbers from 1 to 10.\n"
      ],
      "metadata": {
        "id": "B_K4TF_4m_I9"
      }
    },
    {
      "cell_type": "code",
      "source": [
        "for i in range(1, 11):\n",
        "    print(i)"
      ],
      "metadata": {
        "colab": {
          "base_uri": "https://localhost:8080/"
        },
        "id": "z3BET0AhnG0w",
        "outputId": "a5e04007-4455-4a64-e845-40599191eca7"
      },
      "execution_count": 13,
      "outputs": [
        {
          "output_type": "stream",
          "name": "stdout",
          "text": [
            "1\n",
            "2\n",
            "3\n",
            "4\n",
            "5\n",
            "6\n",
            "7\n",
            "8\n",
            "9\n",
            "10\n"
          ]
        }
      ]
    },
    {
      "cell_type": "markdown",
      "source": [
        "13. Write a Python program to find the sum of all even numbers between 1 and 50."
      ],
      "metadata": {
        "id": "rwfDfTSFnOJk"
      }
    },
    {
      "cell_type": "code",
      "source": [
        "# Initialize the sum variable\n",
        "sum = 0\n",
        "# Iterate over the range of numbers\n",
        "for num in range(2, 51, 2):  # Start from 2, increment by 2 to get only even numbers\n",
        "    sum += num\n",
        "\n",
        "print(\"The sum of even numbers between 1 and 50 is:\", sum)"
      ],
      "metadata": {
        "colab": {
          "base_uri": "https://localhost:8080/"
        },
        "id": "F6feyjaRmzXs",
        "outputId": "ddc016eb-202f-4fe2-ce8c-4ab2ed82a333"
      },
      "execution_count": 14,
      "outputs": [
        {
          "output_type": "stream",
          "name": "stdout",
          "text": [
            "The sum of even numbers between 1 and 50 is: 650\n"
          ]
        }
      ]
    },
    {
      "cell_type": "markdown",
      "source": [
        "14. Write a program to reverse a string using a while loop."
      ],
      "metadata": {
        "id": "nFN_P4V0niNA"
      }
    },
    {
      "cell_type": "code",
      "source": [
        "def reverse_string(str):\n",
        "    str1 = \"\"   # Declaring empty string to store the reversed string\n",
        "    for i in str:\n",
        "        str1 = i + str1\n",
        "    return str1    # It will return the reverse string to the caller function\n",
        "\n",
        "str = \"Faizan\"    # Given String\n",
        "print(\"The original string is: \",str)\n",
        "print(\"The reverse string is\",reverse_string(str)) # Function call"
      ],
      "metadata": {
        "colab": {
          "base_uri": "https://localhost:8080/"
        },
        "id": "ENK0a_BannaJ",
        "outputId": "716126fd-00e3-48d7-f97d-1c7d13cd7d7a"
      },
      "execution_count": 15,
      "outputs": [
        {
          "output_type": "stream",
          "name": "stdout",
          "text": [
            "The original string is:  Faizan\n",
            "The reverse string is naziaF\n"
          ]
        }
      ]
    },
    {
      "cell_type": "markdown",
      "source": [
        "15. Write a Python program to calculate the factorial of a number provided by the user using a while loop."
      ],
      "metadata": {
        "id": "AsgP3LtYoQom"
      }
    },
    {
      "cell_type": "code",
      "source": [
        "fact = 1\n",
        "i = 1\n",
        "num = int(input(\"Enter a number: \"))\n",
        "if num < 0:\n",
        "    print(\"Sorry, factorial does not exist for negative numbers\")\n",
        "else:\n",
        "    while i <= num:\n",
        "        fact = fact*i\n",
        "        i = i + 1\n",
        "    print(\"The factorial of\", num, \"is\", fact)"
      ],
      "metadata": {
        "colab": {
          "base_uri": "https://localhost:8080/"
        },
        "id": "JmK30AcBoT8l",
        "outputId": "e0d417e9-7417-463d-9e79-2ae890c71c33"
      },
      "execution_count": 16,
      "outputs": [
        {
          "output_type": "stream",
          "name": "stdout",
          "text": [
            "Enter a number: 5\n",
            "The factorial of 5 is 120\n"
          ]
        }
      ]
    }
  ]
}