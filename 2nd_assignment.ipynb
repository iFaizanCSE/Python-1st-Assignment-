{
  "nbformat": 4,
  "nbformat_minor": 0,
  "metadata": {
    "colab": {
      "provenance": []
    },
    "kernelspec": {
      "name": "python3",
      "display_name": "Python 3"
    },
    "language_info": {
      "name": "python"
    }
  },
  "cells": [
    {
      "cell_type": "markdown",
      "source": [
        "1.  What are data structures, and why  \n",
        "     are they important ?\n",
        "     - Data structures are a way to organize and store data in a way that's efficient and easy to access. They're fundamental to computer science and programming, and are used in many fields, including software development, AI, machine learning, and financial services. Data structures are important because they:\n",
        "     (a)Make data easier to understand.\n",
        "     (b)Enable higher-level data operations.\n",
        "     (c)Help solve complex problems\n",
        "2.  Explain the difference between mutable and immutable data types with examples.\n",
        "  - The main difference between mutable and immutable data types is that mutable data types can be changed after creation, while immutable data types cannot. lists, dictionaries, and sets are mutable whereas  strings , tuple are immutable.\n",
        "3. What are the main differences between lists and tuples in Python?\n",
        "  - The primary difference between lists and tuples in Python lies in their mutability. Lists are mutable, meaning you can modify their elements after creation (add, remove, or change).Tuples are immutable, meaning their elements cannot be changed once created.\n",
        "4. Describe how dictionaries store data.\n",
        "  - Dictionaries are used to store data values in key:value pairs. A dictionary is a collection which is ordered , changeable and do not allow duplicates.\n",
        "5. Why might you use a set instead of a list in Python?\n",
        "  - Sets are unordered collections of unique elements. Here's why you might prefer them over lists:\n",
        "  Membership testing: Checking if an element exists in a set is very fast\n",
        "   (O(1) time complexity).\n",
        "  Removing duplicates: Sets automatically remove duplicate elements, making them useful for cleaning up data.\n",
        "   Set operations: You can easily perform set operations like union, intersection, and difference.\n",
        "6. What is a string in Python, and how is it different from a list?\n",
        "  - String: A sequence of characters (letters, numbers, symbols) enclosed in single or double quotes.Strings are immutable, while lists are mutable.\n",
        "  trings are optimized for string operations, while lists are more general-purpose.\n",
        "7.  How do tuples ensure data integrity in Python?\n",
        "  - Tuples are immutable, meaning their contents cannot be changed after creation. This helps ensure data integrity because it prevents accidental or unauthorized modifications to the data.\n",
        "8. What is a hash table, and how does it relate to dictionaries in Python?\n",
        "  - Hash table: A data structure that uses a hash function to map keys to indices in an array. This allows for very fast lookups of values based on their keys.Relation to dictionaries: Python dictionaries are implemented using hash tables, which is why accessing values by their keys is so efficient.\n",
        "9. Can lists contain different data types in Python?\n",
        "  - Yes, lists in Python can contain elements of different data types. For example, a list can contain integers, strings, floats, and even other lists.\n",
        "10. Explain why strings are immutable in Python.\n",
        "  - Strings are immutable for several reasons, including:\n",
        "  Efficiency: Immutable objects can be shared between different parts of the program without worrying about unintended side effects.\n",
        "  Hashing: Immutability is crucial for hashing, which is used for efficient dictionary lookups.\n",
        "  Thread safety: Immutable objects can be safely accessed by multiple threads without the need for locks.\n",
        "11. What advantages do dictionaries offer over lists for certain tasks?\n",
        "  - Fast lookups: You can access elements in a dictionary by their keys in constant time (O(1) on average).\n",
        "  Associative data: Dictionaries naturally store key-value pairs, making them ideal for representing relationships between data.\n",
        "12. Describe a scenario where using a tuple would be preferable over a list.\n",
        "  - When you want to ensure that the data remains unchanged, using a tuple is preferable. For example, you might use a tuple to store configuration settings that should never be modified after the program starts.\n",
        "13. How do sets handle duplicate values in Python?\n",
        "  - Sets automatically remove duplicate values. So, if you add the same element multiple times to a set, only one instance of that element will be stored.\n",
        "14. How does the \"in\" keyword work differently for lists and dictionaries?\n",
        "  - Lists: The in keyword checks if an element exists within the list. This requires iterating through the list, which can be slower for large lists.Dictionaries: The in keyword checks if a key exists in the dictionary. This is very fast because it uses the hash table's efficient lookup mechanism.\n",
        "15. Can you modify the elements of a tuple? Explain why or why not.\n",
        "  - No, you cannot modify the elements of a tuple after it's created. Tuples are immutable, meaning their contents cannot be changed.\n",
        "16. What is a nested dictionary, and give an example of its use case.\n",
        "  - A nested dictionary is a dictionary where one or more values are themselves dictionaries.\n",
        "17. Describe the time complexity of accessing elements in a dictionary.\n",
        "  - The time complexity of accessing an element in a dictionary by its key is typically O(1), meaning it takes constant time regardless of the size of the dictionary. This is because dictionaries are implemented using hash tables.\n",
        "18. In what situations are lists preferred over dictionaries?\n",
        "  - Ordered data: When you need to maintain the order of elements, lists are preferred.\n",
        "  Duplicate values: If you need to store duplicate values, lists are the way to go.When you need to modify elements frequently: Since lists are mutable, they are better suited for situations where you need to add, remove, or change elements often.\n",
        "19. Why are dictionaries considered unordered, and how does that affect data retrieval?\n",
        "  - Dictionaries are considered unordered because the order in which key-value pairs are stored is not guaranteed. You cannot rely on the order of elements when iterating over a dictionary. You always retrieve values using their keys.\n",
        "20. Explain the difference between a list and a dictionary in terms of data retrieval.\n",
        "  - Lists: You access elements in a list by their index (position).\n",
        "     Dictionaries: You access elements in a dictionary by their keys.\n",
        "\n",
        "\n",
        "PRACTICAL QUESTIONS\n",
        "\n",
        "1. Write a code to create a string with your name and print it.\n",
        "\n"
      ],
      "metadata": {
        "id": "LpNXkzpZPlSc"
      }
    },
    {
      "cell_type": "code",
      "source": [
        "my_name = \"Faizan Ahmad\"\n",
        "print(my_name)"
      ],
      "metadata": {
        "colab": {
          "base_uri": "https://localhost:8080/"
        },
        "id": "31pNTKSUVOFm",
        "outputId": "318ccbf4-f958-4d6a-d2e1-6ffd81a8bcce"
      },
      "execution_count": 1,
      "outputs": [
        {
          "output_type": "stream",
          "name": "stdout",
          "text": [
            "Faizan Ahmad\n"
          ]
        }
      ]
    },
    {
      "cell_type": "markdown",
      "source": [
        "2. Write a code to find the length of the string \"Hello World\".\n",
        "\n"
      ],
      "metadata": {
        "id": "GS2xNCC5Vbum"
      }
    },
    {
      "cell_type": "code",
      "source": [
        "a= \"Hello World\"\n",
        "print(a)\n",
        "print(len(a))"
      ],
      "metadata": {
        "colab": {
          "base_uri": "https://localhost:8080/"
        },
        "id": "NtuleRbmVgJt",
        "outputId": "14b478bb-532a-410c-c041-52d85958c65f"
      },
      "execution_count": 3,
      "outputs": [
        {
          "output_type": "stream",
          "name": "stdout",
          "text": [
            "Hello World\n",
            "11\n"
          ]
        }
      ]
    },
    {
      "cell_type": "markdown",
      "source": [
        "3. Write a code to slice the first 3 characters from the string \"Python Programming\"."
      ],
      "metadata": {
        "id": "a0SWn3UlV2ic"
      }
    },
    {
      "cell_type": "code",
      "source": [
        "text = \"Python Programming\"\n",
        "first_three = text[:3]\n",
        "print(first_three)"
      ],
      "metadata": {
        "colab": {
          "base_uri": "https://localhost:8080/"
        },
        "id": "u3fzbFafV8dJ",
        "outputId": "cdb1b9f6-14d6-42dd-a7a3-89e71bdee0a1"
      },
      "execution_count": 4,
      "outputs": [
        {
          "output_type": "stream",
          "name": "stdout",
          "text": [
            "Pyt\n"
          ]
        }
      ]
    },
    {
      "cell_type": "markdown",
      "source": [
        "4. Write a code to convert the string \"hello\" to uppercase."
      ],
      "metadata": {
        "id": "UZmtXTgsWEHq"
      }
    },
    {
      "cell_type": "code",
      "source": [],
      "metadata": {
        "id": "hnqFUFzAWIKB"
      },
      "execution_count": null,
      "outputs": []
    },
    {
      "cell_type": "code",
      "source": [
        "text = \"hello\"\n",
        "uppercase_text = text.upper()\n",
        "print(uppercase_text)"
      ],
      "metadata": {
        "colab": {
          "base_uri": "https://localhost:8080/"
        },
        "id": "6LKLdFbdWILz",
        "outputId": "d5c1082f-b55c-4ef9-aa75-66528ef8fb58"
      },
      "execution_count": 5,
      "outputs": [
        {
          "output_type": "stream",
          "name": "stdout",
          "text": [
            "HELLO\n"
          ]
        }
      ]
    },
    {
      "cell_type": "markdown",
      "source": [
        "5. Write a code to replace the word \"apple\" with \"orange\" in the string \"I like apple\"."
      ],
      "metadata": {
        "id": "xyMtbT09WV2K"
      }
    },
    {
      "cell_type": "code",
      "source": [
        "text = \"I like apple\"\n",
        "new_text = text.replace(\"apple\", \"orange\")\n",
        "print(new_text)"
      ],
      "metadata": {
        "colab": {
          "base_uri": "https://localhost:8080/"
        },
        "id": "K7ibq85RWafk",
        "outputId": "5a1f5801-9808-434f-b062-9c4cbe87085f"
      },
      "execution_count": 6,
      "outputs": [
        {
          "output_type": "stream",
          "name": "stdout",
          "text": [
            "I like orange\n"
          ]
        }
      ]
    },
    {
      "cell_type": "markdown",
      "source": [
        "6. Write a code to create a list with numbers 1 to 5 and print it."
      ],
      "metadata": {
        "id": "0NynIkqvWgK1"
      }
    },
    {
      "cell_type": "code",
      "source": [
        "numbers = list(range(1, 6))\n",
        "print(numbers)"
      ],
      "metadata": {
        "colab": {
          "base_uri": "https://localhost:8080/"
        },
        "id": "vuuFq7JXWkCi",
        "outputId": "520c0364-a9c5-408d-f1dd-735d8b728362"
      },
      "execution_count": 7,
      "outputs": [
        {
          "output_type": "stream",
          "name": "stdout",
          "text": [
            "[1, 2, 3, 4, 5]\n"
          ]
        }
      ]
    },
    {
      "cell_type": "markdown",
      "source": [
        "7. Write a code to append the number 10 to the list [1, 2, 3, 4]."
      ],
      "metadata": {
        "id": "2QCtP2vnWp14"
      }
    },
    {
      "cell_type": "code",
      "source": [
        "numbers = [1, 2, 3, 4]\n",
        "numbers.append(10)\n",
        "print(numbers)"
      ],
      "metadata": {
        "colab": {
          "base_uri": "https://localhost:8080/"
        },
        "id": "hBRrVeflWuM3",
        "outputId": "0a997df5-3b28-42a7-8aa2-50ca74a3e62a"
      },
      "execution_count": 8,
      "outputs": [
        {
          "output_type": "stream",
          "name": "stdout",
          "text": [
            "[1, 2, 3, 4, 10]\n"
          ]
        }
      ]
    },
    {
      "cell_type": "markdown",
      "source": [
        "8. Write a code to remove the number 3 from the list [1, 2, 3, 4, 5]."
      ],
      "metadata": {
        "id": "Bt9iJbinWyvb"
      }
    },
    {
      "cell_type": "code",
      "source": [
        "numbers = [1, 2, 3, 4, 5]\n",
        "numbers.remove(3)\n",
        "print(numbers)"
      ],
      "metadata": {
        "colab": {
          "base_uri": "https://localhost:8080/"
        },
        "id": "LZPAwFq4W4sh",
        "outputId": "b8b8bb81-2423-4977-bd0f-72b832ca2998"
      },
      "execution_count": 9,
      "outputs": [
        {
          "output_type": "stream",
          "name": "stdout",
          "text": [
            "[1, 2, 4, 5]\n"
          ]
        }
      ]
    },
    {
      "cell_type": "markdown",
      "source": [],
      "metadata": {
        "id": "ozU9MSpUW_04"
      }
    },
    {
      "cell_type": "markdown",
      "source": [
        "9. Write a code to access the second element in the list ['a', 'b', 'c', 'd']."
      ],
      "metadata": {
        "id": "4DMIN2c8W_2v"
      }
    },
    {
      "cell_type": "code",
      "source": [
        "letters = ['a', 'b', 'c', 'd']\n",
        "second_element = letters[1]\n",
        "print(second_element)"
      ],
      "metadata": {
        "colab": {
          "base_uri": "https://localhost:8080/"
        },
        "id": "XTWJTTVMXBX6",
        "outputId": "1b8130fd-671c-42ca-adc7-e8ec4364415b"
      },
      "execution_count": 10,
      "outputs": [
        {
          "output_type": "stream",
          "name": "stdout",
          "text": [
            "b\n"
          ]
        }
      ]
    },
    {
      "cell_type": "markdown",
      "source": [
        "10. Write a code to reverse the list [10, 20, 30, 40, 50]"
      ],
      "metadata": {
        "id": "cRwdzfz3XK4-"
      }
    },
    {
      "cell_type": "code",
      "source": [
        "numbers = [10, 20, 30, 40, 50]\n",
        "reversed_numbers = numbers[::-1]\n",
        "print(reversed_numbers)"
      ],
      "metadata": {
        "colab": {
          "base_uri": "https://localhost:8080/"
        },
        "id": "d_bVtWKoXMPk",
        "outputId": "72b3f885-8419-4d04-cb17-8f2e764affd3"
      },
      "execution_count": 11,
      "outputs": [
        {
          "output_type": "stream",
          "name": "stdout",
          "text": [
            "[50, 40, 30, 20, 10]\n"
          ]
        }
      ]
    },
    {
      "cell_type": "markdown",
      "source": [
        "11. Write a code to create a tuple with the elements 10, 20, 30 and print it."
      ],
      "metadata": {
        "id": "H_wP8AVfXrWx"
      }
    },
    {
      "cell_type": "code",
      "source": [
        "my_tuple = (10, 20, 30)\n",
        "print(my_tuple)"
      ],
      "metadata": {
        "colab": {
          "base_uri": "https://localhost:8080/"
        },
        "id": "bA2VkMmVXvYX",
        "outputId": "5b5aa37b-c8dc-40a4-f517-19e281082c49"
      },
      "execution_count": 12,
      "outputs": [
        {
          "output_type": "stream",
          "name": "stdout",
          "text": [
            "(10, 20, 30)\n"
          ]
        }
      ]
    },
    {
      "cell_type": "markdown",
      "source": [
        "12. Write a code to access the first element of the tuple ('apple', 'banana', 'cherry')."
      ],
      "metadata": {
        "id": "SuQMUdlvX3M4"
      }
    },
    {
      "cell_type": "code",
      "source": [
        "my_tuple = ('apple', 'banana', 'cherry')\n",
        "first_element = my_tuple[0]\n",
        "print(first_element)"
      ],
      "metadata": {
        "colab": {
          "base_uri": "https://localhost:8080/"
        },
        "id": "eoM3NbFjX51v",
        "outputId": "4af0a937-8f26-44de-bb07-3f634da17564"
      },
      "execution_count": 13,
      "outputs": [
        {
          "output_type": "stream",
          "name": "stdout",
          "text": [
            "apple\n"
          ]
        }
      ]
    },
    {
      "cell_type": "markdown",
      "source": [
        "13. Write a code to count how many times the number 2 appears in the tuple (1, 2, 3, 2, 4, 2)."
      ],
      "metadata": {
        "id": "WrZ6dazpYNcA"
      }
    },
    {
      "cell_type": "code",
      "source": [
        "my_tuple = (1, 2, 3, 2, 4, 2)\n",
        "count = my_tuple.count(2)\n",
        "print(count)"
      ],
      "metadata": {
        "colab": {
          "base_uri": "https://localhost:8080/"
        },
        "id": "0_oJ7FepYQlN",
        "outputId": "d841d177-2aa6-49d7-99ef-f93e87c3cb0c"
      },
      "execution_count": 14,
      "outputs": [
        {
          "output_type": "stream",
          "name": "stdout",
          "text": [
            "3\n"
          ]
        }
      ]
    },
    {
      "cell_type": "markdown",
      "source": [
        "14. Write a code to find the index of the element \"cat\" in the tuple ('dog', 'cat', 'rabbit')."
      ],
      "metadata": {
        "id": "z8D96KBwYVV0"
      }
    },
    {
      "cell_type": "code",
      "source": [
        "my_tuple = ('dog', 'cat', 'rabbit')\n",
        "index = my_tuple.index('cat')\n",
        "print(index)"
      ],
      "metadata": {
        "colab": {
          "base_uri": "https://localhost:8080/"
        },
        "id": "4656nC6EYY3y",
        "outputId": "52ce9412-523d-4f83-d2ed-2ba91cd49da2"
      },
      "execution_count": 15,
      "outputs": [
        {
          "output_type": "stream",
          "name": "stdout",
          "text": [
            "1\n"
          ]
        }
      ]
    },
    {
      "cell_type": "markdown",
      "source": [
        "15. Write a code to check if the element \"banana\" is in the tuple ('apple', 'orange', 'banana')."
      ],
      "metadata": {
        "id": "AoM43i_oYe0l"
      }
    },
    {
      "cell_type": "code",
      "source": [
        "my_tuple = ('apple', 'orange', 'banana')\n",
        "if 'banana' in my_tuple:\n",
        "    print(\"banana is in the tuple\")\n",
        "else:\n",
        "    print(\"banana is not in the tuple\")"
      ],
      "metadata": {
        "colab": {
          "base_uri": "https://localhost:8080/"
        },
        "id": "jH7yMHNrYgLC",
        "outputId": "18d80596-ff33-480f-afdf-c2ed015e4c2a"
      },
      "execution_count": 16,
      "outputs": [
        {
          "output_type": "stream",
          "name": "stdout",
          "text": [
            "banana is in the tuple\n"
          ]
        }
      ]
    },
    {
      "cell_type": "markdown",
      "source": [
        "16. Write a code to create a set with the elements 1, 2, 3, 4, 5 and print it."
      ],
      "metadata": {
        "id": "DqMXPSD1YmWa"
      }
    },
    {
      "cell_type": "code",
      "source": [
        "my_set = {1, 2, 3, 4, 5}\n",
        "print(my_set)"
      ],
      "metadata": {
        "colab": {
          "base_uri": "https://localhost:8080/"
        },
        "id": "tLsPU3mKYm8v",
        "outputId": "707d29f0-2ecd-4756-e754-2a810ebe6bd6"
      },
      "execution_count": 17,
      "outputs": [
        {
          "output_type": "stream",
          "name": "stdout",
          "text": [
            "{1, 2, 3, 4, 5}\n"
          ]
        }
      ]
    },
    {
      "cell_type": "markdown",
      "source": [
        "17. Write a code to add the element 6 to the set {1, 2, 3, 4}."
      ],
      "metadata": {
        "id": "2rm4gy8FYr5A"
      }
    },
    {
      "cell_type": "code",
      "source": [
        "my_set = {1, 2, 3, 4}\n",
        "my_set.add(6)\n",
        "print(my_set)"
      ],
      "metadata": {
        "colab": {
          "base_uri": "https://localhost:8080/"
        },
        "id": "yXbAuYSCYsgA",
        "outputId": "33c0f2f8-b716-4783-e039-77059701d948"
      },
      "execution_count": 18,
      "outputs": [
        {
          "output_type": "stream",
          "name": "stdout",
          "text": [
            "{1, 2, 3, 4, 6}\n"
          ]
        }
      ]
    },
    {
      "cell_type": "markdown",
      "source": [
        "18. Write a code to create a tuple with the elements 10, 20, 30 and print it."
      ],
      "metadata": {
        "id": "CvcsDJNLYx43"
      }
    },
    {
      "cell_type": "code",
      "source": [
        "my_tuple = (10, 20, 30)\n",
        "print(my_tuple)"
      ],
      "metadata": {
        "colab": {
          "base_uri": "https://localhost:8080/"
        },
        "id": "-qxWou7LYyxw",
        "outputId": "daafce9b-70f5-4f14-a0d2-e4e83c288770"
      },
      "execution_count": 19,
      "outputs": [
        {
          "output_type": "stream",
          "name": "stdout",
          "text": [
            "(10, 20, 30)\n"
          ]
        }
      ]
    },
    {
      "cell_type": "markdown",
      "source": [
        "19. Write a code to access the first element of the tuple ('apple', 'banana', 'cherry')."
      ],
      "metadata": {
        "id": "W8tyCbP0Y6tj"
      }
    },
    {
      "cell_type": "code",
      "source": [
        "my_tuple = ('apple', 'banana', 'cherry')\n",
        "first_element = my_tuple[0]\n",
        "print(first_element)"
      ],
      "metadata": {
        "colab": {
          "base_uri": "https://localhost:8080/"
        },
        "id": "vrTDy3uLY7oe",
        "outputId": "5a62430b-f5c5-45ff-ba65-346f6e31c591"
      },
      "execution_count": 20,
      "outputs": [
        {
          "output_type": "stream",
          "name": "stdout",
          "text": [
            "apple\n"
          ]
        }
      ]
    },
    {
      "cell_type": "markdown",
      "source": [
        "20. Write a code to count how many times the number 2 appears in the tuple (1, 2, 3, 2, 4, 2)."
      ],
      "metadata": {
        "id": "0yaYSudJZBxu"
      }
    },
    {
      "cell_type": "code",
      "source": [
        "my_tuple = (1, 2, 3, 2, 4, 2)\n",
        "count = my_tuple.count(2)\n",
        "print(count)"
      ],
      "metadata": {
        "colab": {
          "base_uri": "https://localhost:8080/"
        },
        "id": "5rZpfN9RZCoG",
        "outputId": "cad332ad-16c3-422f-e7cf-7b5dc069ef35"
      },
      "execution_count": 21,
      "outputs": [
        {
          "output_type": "stream",
          "name": "stdout",
          "text": [
            "3\n"
          ]
        }
      ]
    },
    {
      "cell_type": "markdown",
      "source": [
        "21. Write a code to find the index of the element \"cat\" in the tuple ('dog', 'cat', 'rabbit')."
      ],
      "metadata": {
        "id": "uufa3l1TZQe_"
      }
    },
    {
      "cell_type": "code",
      "source": [
        "my_tuple = ('dog', 'cat', 'rabbit')\n",
        "index = my_tuple.index('cat')\n",
        "print(index)"
      ],
      "metadata": {
        "colab": {
          "base_uri": "https://localhost:8080/"
        },
        "id": "74yAeNbsZUAd",
        "outputId": "3d04c1e2-a037-4ea0-ceba-ceb0f263609e"
      },
      "execution_count": 22,
      "outputs": [
        {
          "output_type": "stream",
          "name": "stdout",
          "text": [
            "1\n"
          ]
        }
      ]
    },
    {
      "cell_type": "markdown",
      "source": [
        "22. Write a code to check if the element \"banana\" is in the tuple ('apple', 'orange', 'banana')."
      ],
      "metadata": {
        "id": "B1sTq8doZa0y"
      }
    },
    {
      "cell_type": "code",
      "source": [
        "my_tuple = ('apple', 'orange', 'banana')\n",
        "if 'banana' in my_tuple:\n",
        "    print(\"banana is in the tuple\")\n",
        "else:\n",
        "    print(\"banana is not in the tuple\")"
      ],
      "metadata": {
        "colab": {
          "base_uri": "https://localhost:8080/"
        },
        "id": "Ruojny0iZeBa",
        "outputId": "adf69187-8e19-4cc3-ac56-cef4b959a9c6"
      },
      "execution_count": 23,
      "outputs": [
        {
          "output_type": "stream",
          "name": "stdout",
          "text": [
            "banana is in the tuple\n"
          ]
        }
      ]
    },
    {
      "cell_type": "markdown",
      "source": [
        "23. Write a code to create a set with the elements 1, 2, 3, 4, 5 and print it."
      ],
      "metadata": {
        "id": "pO5Amr3yZm1t"
      }
    },
    {
      "cell_type": "code",
      "source": [
        "my_set = {1, 2, 3, 4, 5}\n",
        "print(my_set)"
      ],
      "metadata": {
        "id": "zKUttY9fZsvt"
      },
      "execution_count": null,
      "outputs": []
    },
    {
      "cell_type": "markdown",
      "source": [
        "24. Write a code to add the element 6 to the set {1, 2, 3, 4}."
      ],
      "metadata": {
        "id": "fYi05mokZ1n9"
      }
    },
    {
      "cell_type": "code",
      "source": [
        "my_set = {1, 2, 3, 4}\n",
        "my_set.add(6)\n",
        "print(my_set)"
      ],
      "metadata": {
        "id": "w0tO5vyNZ7YU"
      },
      "execution_count": null,
      "outputs": []
    },
    {
      "cell_type": "markdown",
      "source": [],
      "metadata": {
        "id": "gBYJMBSxO2uu"
      }
    }
  ]
}