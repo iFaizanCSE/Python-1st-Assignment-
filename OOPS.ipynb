{
  "nbformat": 4,
  "nbformat_minor": 0,
  "metadata": {
    "colab": {
      "provenance": []
    },
    "kernelspec": {
      "name": "python3",
      "display_name": "Python 3"
    },
    "language_info": {
      "name": "python"
    }
  },
  "cells": [
    {
      "cell_type": "markdown",
      "source": [
        "1. What is Object-Oriented Programming (OOP)?\n",
        "  - OOP is a programming paradigm based on the concept of \"objects,\" which can contain data1 (attributes) and code (methods). It focuses on organizing code around these objects, making it more modular, reusable, and easier to maintain.\n",
        "2. What is a class in OOP?\n",
        "  - A class is a blueprint or template for creating objects. It defines the attributes and methods that objects of that class will have. For example, a \"Car\"2 class might define attributes like \"color,\" \"model,\" and \"speed,\" and methods like \"accelerate,\" \"brake,\" and \"turn.\"\n",
        "3. What is an object in OOP?\n",
        "  - An object is an instance of a class. It's a concrete representation of the class, with specific values for the attributes defined in the class. For example, a specific car like a \"red Ferrari\" would be an object of the \"Car\" class.\n",
        "4. What is the difference between abstraction and encapsulation?\n",
        "  - - Abstraction: It's the process of simplifying complex systems by focusing on essential features and hiding unnecessary details. For example, you don't need to know the internal workings of a car engine to drive it.\n",
        "\t - Encapsulation: It's the mechanism of bundling data (attributes) and methods that operate on that data within a single unit (the class). This protects the data from unauthorized access and modification.\n",
        "5. What are dunder methods in Python?\n",
        "  - Dunder methods, also known as magic methods, are special methods in Python that start and end with double underscores (e.g., __init__, __str__, __add__). They allow you to define how objects of your class behave in specific situations. For example, __init__ is the constructor, used to initialize objects.\n",
        "6. Explain the concept of inheritance in OOP.\n",
        "  - Inheritance is a mechanism where one class (the subclass or derived class) inherits the properties and methods of another class (the superclass or base class).3 This promotes code reusability and helps in creating a hierarchy of classes.\n",
        "7. What is polymorphism in OOP?\n",
        "  - Polymorphism means \"many forms.\" In OOP, it refers to the ability of objects of different classes to be treated as objects of a common type. This allows you to write code that can work with objects of various classes in a uniform way.\n",
        "8. How is encapsulation achieved in Python?\n",
        "  - Encapsulation in Python is achieved by using the concept of access modifiers. By default, all attributes and methods in a class are public. However, you can make them private by prefixing them with a double underscore (__). This prevents direct access from outside the class.\n",
        "9. What is a constructor in Python?\n",
        "  - The constructor is a special method in Python called __init__. It's automatically called when an object of the class is created. It's used to initialize the object's attributes with initial values.\n",
        "10. What are class and static methods in Python?\n",
        "  -   - Class methods: Bound to the class, not the object. They can access and modify class-level attributes. Decorated with @classmethod.\n",
        "      - Static methods: Not bound to the class or object. They are simply functions that are logically related to the class. Decorated with @staticmethod.\n",
        "11. What is method overloading in Python?\n",
        "  - Python doesn't directly support method overloading (having multiple methods with the same name but different parameters). However, you can achieve similar functionality using default arguments and variable-length arguments (*args, **kwargs).\n",
        "12. What is method overriding in OOP?\n",
        "  - Method overriding occurs when a subclass provides a different implementation for a method that is already defined in its superclass. This allows the subclass to customize the behavior4 of the inherited method.\n",
        "13. What is a property decorator in Python?\n",
        "  - The @property decorator allows you to define methods that can be accessed like attributes. This helps to encapsulate data and provide more control over how attributes are accessed and modified.\n",
        "14. Why is polymorphism important in OOP?\n",
        "  - Polymorphism makes code more flexible, reusable, and easier to maintain. It allows you to write generic code that can work with objects of different classes, making your programs more adaptable to changes.\n",
        "15. What is an abstract class in Python?\n",
        "  - An abstract class is a class that cannot be instantiated directly. It serves as a template for other classes and often contains abstract methods (methods without implementation).\n",
        "16. What are the advantages of OOP?\n",
        "  -  - Modularity: Code is organized into reusable objects, making it easier to manage and maintain.\n",
        "     - Reusability: Inheritance allows you to reuse code from existing classes.\n",
        "     - Flexibility: Polymorphism enables you to write code that can work with\n",
        "       objects of different classes.\n",
        "     - Maintainability: Changes to one part of the system are less likely to affect other parts.\n",
        "17. What is the difference between a class variable and an instance variable?\n",
        "  -  - Class variable: Belongs to the class itself, not to individual objects. Shared by all instances of the class.\n",
        "  -  -\tInstance variable: Belongs to a specific object of the class. Each object has its own copy of instance variables.\n",
        "18. What is multiple inheritance in Python?\n",
        "  - Multiple inheritance is a feature where a class can inherit from multiple parent classes. This allows you to combine the features of multiple classes into a single class.\n",
        "19. Explain the purpose of __str__ and __repr__ methods in Python.\n",
        "  -   - __str__: Returns a user-friendly string representation of the object.\n",
        "      - __repr__: Returns a string representation that can be used to recreate the object. It's often more technical and intended for developers.\n",
        "20. What is the significance of the super() function in Python?\n",
        "  - The super() function allows you to call methods of the parent class from within a child class. This is useful for overriding methods while still using the parent class's implementation.\n",
        "21. What is the significance of the __del__ method in Python?\n",
        "  - The __del__ method, also known as the destructor, is called when an object is about to be garbage collected. It can be used to perform cleanup tasks before the object is destroyed.\n",
        "22. What is the difference between @staticmethod and @classmethod in Python?\n",
        "  -  - @staticmethod: Decorates a method that is not bound to the class or object. It's simply a function that is logically related to the class.\n",
        "  -  -\t@classmethod: Decorates a method that is bound to the class, not the object. It can access and modify class-level attributes.\n",
        "23. How does polymorphism work in Python with inheritance?\n",
        "  - Polymorphism in Python works through method overriding. When you call a method on an object, the Python interpreter first looks for that method in the object's class. If it's not found, it searches the parent classes in the inheritance hierarchy. This allows you to treat objects of different classes in a uniform way.\n",
        "24. What is method chaining in Python OOP?\n",
        "  - Method chaining allows you to call multiple methods on an object in a single line of code. Each method returns the object itself, allowing you to chain calls together.\n",
        "25. What is the purpose of the __call__ method in Python?\n",
        "  - The __call__ method allows you to make objects of your class callable, like functions. When you use parentheses () after an object that has __call__ defined, this method is invoked.\n",
        "\n",
        "  **Practical Questions**\n",
        "\n",
        "1. Create a parent class Animal with a method speak() that prints a generic message. Create a child class Dog that overrides the speak() method to print \"Bark!\".\n",
        "\n"
      ],
      "metadata": {
        "id": "BvakeFnAqvAM"
      }
    },
    {
      "cell_type": "code",
      "source": [
        "class Animal:\n",
        "    def speak(self):\n",
        "        print(\"Generic animal sound\")\n",
        "\n",
        "class Dog(Animal):\n",
        "    def speak(self):\n",
        "        print(\"Bark!\")\n",
        "\n",
        "# Create an object of the Dog class\n",
        "dog = Dog()\n",
        "dog.speak()"
      ],
      "metadata": {
        "colab": {
          "base_uri": "https://localhost:8080/"
        },
        "id": "ULyfKV9Ttgh8",
        "outputId": "4b2afbf7-6d5b-4f64-8111-69d23068a658"
      },
      "execution_count": 1,
      "outputs": [
        {
          "output_type": "stream",
          "name": "stdout",
          "text": [
            "Bark!\n"
          ]
        }
      ]
    },
    {
      "cell_type": "markdown",
      "source": [
        "2. Write a program to create an abstract class Shape with a method area(). Derive classes Circle and Rectangle from it and implement the area() method in both."
      ],
      "metadata": {
        "id": "ok4Ztf_RtuhI"
      }
    },
    {
      "cell_type": "code",
      "source": [
        "class Shape:\n",
        "    def area(self):\n",
        "        pass\n",
        "\n",
        "class Circle(Shape):\n",
        "    def __init__(self, radius):\n",
        "        self.radius = radius\n",
        "\n",
        "    def area(self):\n",
        "        return 3.14 * self.radius ** 2\n",
        "\n",
        "class Rectangle(Shape):\n",
        "    def __init__(self, length, width):\n",
        "        self.length = length\n",
        "        self.width = width\n",
        "\n",
        "    def area(self):\n",
        "        return self.length * self.width\n",
        "\n",
        "circle = Circle(5)\n",
        "rectangle = Rectangle(4, 6)\n",
        "\n",
        "print(\"Area of Circle:\", circle.area())\n",
        "print(\"Area of Rectangle:\", rectangle.area())\n"
      ],
      "metadata": {
        "colab": {
          "base_uri": "https://localhost:8080/"
        },
        "id": "Py35m8jBtwwN",
        "outputId": "8f42bdf6-1e50-4d17-f20e-539ac200b776"
      },
      "execution_count": 2,
      "outputs": [
        {
          "output_type": "stream",
          "name": "stdout",
          "text": [
            "Area of Circle: 78.5\n",
            "Area of Rectangle: 24\n"
          ]
        }
      ]
    },
    {
      "cell_type": "markdown",
      "source": [
        " 3. Implement a multi-level inheritance scenario where a class Vehicle has an attribute type. Derive a class Car and further derive a class ElectricCar that adds a battery attribute."
      ],
      "metadata": {
        "id": "-xSQXN2KuWe0"
      }
    },
    {
      "cell_type": "code",
      "source": [
        "class Vehicle:\n",
        "    def __init__(self, vehicle_type):\n",
        "        self.type = vehicle_type\n",
        "\n",
        "class Car(Vehicle):\n",
        "    def __init__(self, vehicle_type, brand):\n",
        "        super().__init__(vehicle_type)\n",
        "        self.brand = brand\n",
        "\n",
        "class ElectricCar(Car):\n",
        "    def __init__(self, vehicle_type, brand, battery_capacity):\n",
        "        super().__init__(vehicle_type, brand)\n",
        "        self.battery_capacity = battery_capacity\n",
        "\n",
        "my_Nano = ElectricCar(\"Electric Vehicle\", \"Nano\", 75)\n",
        "\n",
        "print(\"Vehicle Type:\", my_Nano.type)\n",
        "print(\"Car Brand:\", my_Nano.brand)\n",
        "print(\"Battery Capacity:\", my_Nano.battery_capacity, \"kWh\")\n",
        "print(\"Tata Nano is best car\")\n"
      ],
      "metadata": {
        "colab": {
          "base_uri": "https://localhost:8080/"
        },
        "id": "GkQM5X60ub2G",
        "outputId": "072c9907-453b-468d-e4c1-57784d114f64"
      },
      "execution_count": 5,
      "outputs": [
        {
          "output_type": "stream",
          "name": "stdout",
          "text": [
            "Vehicle Type: Electric Vehicle\n",
            "Car Brand: Nano\n",
            "Battery Capacity: 75 kWh\n",
            "Tata Nano is best car\n"
          ]
        }
      ]
    },
    {
      "cell_type": "markdown",
      "source": [
        "4.  Implement a multi-level inheritance scenario where a class Vehicle has an attribute type. Derive a class Car and further derive a class ElectricCar that adds a battery attribute."
      ],
      "metadata": {
        "id": "gyoijBlXvt7p"
      }
    },
    {
      "cell_type": "code",
      "source": [],
      "metadata": {
        "id": "vql7OzLZv2yT"
      },
      "execution_count": null,
      "outputs": []
    },
    {
      "cell_type": "code",
      "source": [
        "class Vehicle:\n",
        "    def __init__(self, vehicle_type):\n",
        "        self.type = vehicle_type\n",
        "\n",
        "class Car(Vehicle):\n",
        "    def __init__(self, vehicle_type, brand):\n",
        "        super().__init__(vehicle_type)\n",
        "        self.brand = brand\n",
        "\n",
        "class ElectricCar(Car):\n",
        "    def __init__(self, vehicle_type, brand, battery_capacity):\n",
        "        super().__init__(vehicle_type, brand)\n",
        "        self.battery_capacity = battery_capacity\n",
        "\n",
        "my_Nano = ElectricCar(\"Electric Vehicle\", \"Nano\", 75)\n",
        "\n",
        "print(\"Vehicle Type:\", my_Nano.type)\n",
        "print(\"Car Brand:\", my_Nano.brand)\n",
        "print(\"Battery Capacity:\", my_Nano.battery_capacity, \"kWh\")\n",
        "print(\"This the same question as question numbetr 3\")\n"
      ],
      "metadata": {
        "colab": {
          "base_uri": "https://localhost:8080/"
        },
        "outputId": "9d084739-c909-46d4-e8ad-c59d8d883a42",
        "id": "BQMxMhuFv6Gf"
      },
      "execution_count": 6,
      "outputs": [
        {
          "output_type": "stream",
          "name": "stdout",
          "text": [
            "Vehicle Type: Electric Vehicle\n",
            "Car Brand: Nano\n",
            "Battery Capacity: 75 kWh\n",
            "This the same question as question numbetr 3\n"
          ]
        }
      ]
    },
    {
      "cell_type": "markdown",
      "source": [
        "5. Write a program to demonstrate encapsulation by creating a class BankAccount with private attributes balance and methods to deposit, withdraw, and check balance."
      ],
      "metadata": {
        "id": "OcyZIF0fwCiV"
      }
    },
    {
      "cell_type": "code",
      "source": [
        "class BankAccount:\n",
        "    def __init__(self, initial_balance=0):\n",
        "        self.__balance = initial_balance  # Private attribute\n",
        "\n",
        "    def deposit(self, amount):\n",
        "        self.__balance += amount\n",
        "\n",
        "    def withdraw(self, amount):\n",
        "        if amount <= self.__balance:\n",
        "            self.__balance -= amount\n",
        "        else:\n",
        "            print(\"Insufficient balance!\")\n",
        "\n",
        "    def check_balance(self):\n",
        "        print(\"Current Balance:\", self.__balance)\n",
        "\n",
        "account = BankAccount(100)  # Initial balance of 100\n",
        "account.deposit(50)         # Deposit 50\n",
        "account.withdraw(30)        # Withdraw 30\n",
        "account.check_balance()      # Check balance\n"
      ],
      "metadata": {
        "colab": {
          "base_uri": "https://localhost:8080/"
        },
        "id": "YPk3CgI8wSw3",
        "outputId": "f4a0f7ed-eae0-416b-958f-1ad20942e575"
      },
      "execution_count": 7,
      "outputs": [
        {
          "output_type": "stream",
          "name": "stdout",
          "text": [
            "Current Balance: 120\n"
          ]
        }
      ]
    },
    {
      "cell_type": "markdown",
      "source": [
        "6. Demonstrate runtime polymorphism using a method play() in a base class Instrument. Derive classes Guitar and Piano that implement their own version of play()."
      ],
      "metadata": {
        "id": "yXya_eXdw8UF"
      }
    },
    {
      "cell_type": "code",
      "source": [
        "class Instrument:\n",
        "    def play(self):\n",
        "        pass\n",
        "class Guitar(Instrument):\n",
        "    def play(self):\n",
        "        print(\"Strumming the guitar.\")\n",
        "class Piano(Instrument):\n",
        "    def play(self):\n",
        "        print(\"Playing the piano.\")\n",
        "guitar = Guitar()\n",
        "piano = Piano()\n",
        "guitar.play()\n",
        "piano.play()"
      ],
      "metadata": {
        "colab": {
          "base_uri": "https://localhost:8080/"
        },
        "id": "67j7JJqGxIts",
        "outputId": "d42b2e99-50e7-4c62-f5d4-15d5ffdcea5e"
      },
      "execution_count": 9,
      "outputs": [
        {
          "output_type": "stream",
          "name": "stdout",
          "text": [
            "Strumming the guitar.\n",
            "Playing the piano.\n"
          ]
        }
      ]
    },
    {
      "cell_type": "markdown",
      "source": [
        "7.  Create a class MathOperations with a class method add_numbers() to add two numbers and a static method subtract_numbers() to subtract two numbers."
      ],
      "metadata": {
        "id": "StCHusHzx9ca"
      }
    },
    {
      "cell_type": "code",
      "source": [
        "class MathOperations:\n",
        "    @classmethod\n",
        "    def add_numbers(cls, a, b):\n",
        "        return a + b\n",
        "\n",
        "    @staticmethod\n",
        "    def subtract_numbers(a, b):\n",
        "        return a - b\n",
        "print(\"Addition:\", MathOperations.add_numbers(10, 5))\n",
        "print(\"Subtraction:\", MathOperations.subtract_numbers(10, 5))\n"
      ],
      "metadata": {
        "colab": {
          "base_uri": "https://localhost:8080/"
        },
        "id": "miFbpgemyCxv",
        "outputId": "c566596f-cc8b-49e0-ffc5-f35879921a28"
      },
      "execution_count": 10,
      "outputs": [
        {
          "output_type": "stream",
          "name": "stdout",
          "text": [
            "Addition: 15\n",
            "Subtraction: 5\n"
          ]
        }
      ]
    },
    {
      "cell_type": "markdown",
      "source": [
        " 8. Implement a class Person with a class method to count the total number of persons created."
      ],
      "metadata": {
        "id": "q0DXLtEByZvS"
      }
    },
    {
      "cell_type": "code",
      "source": [
        "class Person:\n",
        "    count = 0\n",
        "\n",
        "    def __init__(self, name):\n",
        "        self.name = name\n",
        "        Person.count += 1\n",
        "    @classmethod\n",
        "    def total_persons(cls):\n",
        "        return cls.count\n",
        "Person(\"Faizan\")\n",
        "Person(\"Angel\")\n",
        "Person(\"Sinha\")\n",
        "print(\"Total persons created:\", Person.total_persons())"
      ],
      "metadata": {
        "colab": {
          "base_uri": "https://localhost:8080/"
        },
        "id": "7rdGNKzoyfD_",
        "outputId": "1afb547e-a7f3-4a0c-9544-56847e7c9ee7"
      },
      "execution_count": 11,
      "outputs": [
        {
          "output_type": "stream",
          "name": "stdout",
          "text": [
            "Total persons created: 3\n"
          ]
        }
      ]
    },
    {
      "cell_type": "code",
      "source": [],
      "metadata": {
        "id": "B_Eg39hvzenF"
      },
      "execution_count": null,
      "outputs": []
    },
    {
      "cell_type": "code",
      "source": [],
      "metadata": {
        "id": "hNdTo3JOzfdO"
      },
      "execution_count": null,
      "outputs": []
    },
    {
      "cell_type": "markdown",
      "source": [
        "9.  Write a class Fraction with attributes numerator and denominator. Override the str method to display the  fraction as \"numerator/denominator\"."
      ],
      "metadata": {
        "id": "NcO_s4Tcy8Qa"
      }
    },
    {
      "cell_type": "code",
      "source": [
        "class Fraction:\n",
        "    def __init__(self, numerator, denominator):\n",
        "        self.numerator = numerator\n",
        "        self.denominator = denominator\n",
        "\n",
        "    def __str__(self):\n",
        "        return f\"{self.numerator}/{self.denominator}\"\n",
        "fraction = Fraction(3, 4)\n",
        "print(f\"{fraction}\")\n"
      ],
      "metadata": {
        "colab": {
          "base_uri": "https://localhost:8080/"
        },
        "id": "PMCtC2MqzC6N",
        "outputId": "6b1122cc-93f3-482c-dc8f-f8254778c9c7"
      },
      "execution_count": 12,
      "outputs": [
        {
          "output_type": "stream",
          "name": "stdout",
          "text": [
            "3/4\n"
          ]
        }
      ]
    },
    {
      "cell_type": "markdown",
      "source": [
        "10.  Demonstrate operator overloading by creating a class Vector and overriding the add method to add two vectors."
      ],
      "metadata": {
        "id": "M_Umkk0szXgn"
      }
    },
    {
      "cell_type": "code",
      "source": [
        "class Vector:\n",
        "    def __init__(self, x, y):\n",
        "        self.x = x\n",
        "        self.y = y\n",
        "\n",
        "    def __add__(self, other):\n",
        "        return Vector(self.x + other.x, self.y + other.y)\n",
        "\n",
        "    def __str__(self):\n",
        "        return f\"({self.x}, {self.y})\"\n",
        "v1 = Vector(1, 2)\n",
        "v2 = Vector(3, 4)\n",
        "\n",
        "result = v1 + v2\n",
        "print(result)\n"
      ],
      "metadata": {
        "colab": {
          "base_uri": "https://localhost:8080/"
        },
        "id": "CyJC6IVBzgup",
        "outputId": "20f07e09-5854-47fd-8908-91040b0f6a76"
      },
      "execution_count": 13,
      "outputs": [
        {
          "output_type": "stream",
          "name": "stdout",
          "text": [
            "(4, 6)\n"
          ]
        }
      ]
    },
    {
      "cell_type": "markdown",
      "source": [
        "11. Create a class Person with attributes name and age. Add a method greet() that prints \"Hello, my name is {name} and I am {age} years old."
      ],
      "metadata": {
        "id": "A5Unc3Gfz4GM"
      }
    },
    {
      "cell_type": "code",
      "source": [
        "class Person:\n",
        "    def __init__(self, name, age):\n",
        "        self.name = name\n",
        "        self.age = age\n",
        "\n",
        "    def greet(self):\n",
        "        print(f\"Hello, my name is {self.name} and I am {self.age} years old.\")\n",
        "person = Person(\"Faizan\", 22)\n",
        "person.greet()"
      ],
      "metadata": {
        "colab": {
          "base_uri": "https://localhost:8080/"
        },
        "id": "Mywtt8WSz_5Y",
        "outputId": "31963cc5-3834-4077-89a9-2b234c263f26"
      },
      "execution_count": 14,
      "outputs": [
        {
          "output_type": "stream",
          "name": "stdout",
          "text": [
            "Hello, my name is Faizan and I am 22 years old.\n"
          ]
        }
      ]
    },
    {
      "cell_type": "markdown",
      "source": [
        "12.  Implement a class Student with attributes name and grades. Create a method average_grade() to compute the average of the grades."
      ],
      "metadata": {
        "id": "nvOnH3nb0XTo"
      }
    },
    {
      "cell_type": "code",
      "source": [
        "class Student:\n",
        "    def __init__(self, name, grades):\n",
        "        self.name = name\n",
        "        self.grades = grades\n",
        "\n",
        "    def average_grade(self):\n",
        "        return sum(self.grades) / len(self.grades)\n",
        "\n",
        "# Example usage\n",
        "student = Student(\"Faizan\", [90, 85, 88, 92])\n",
        "print(student.average_grade())\n"
      ],
      "metadata": {
        "colab": {
          "base_uri": "https://localhost:8080/"
        },
        "id": "hdIct88I0cdz",
        "outputId": "070f6cff-c8d1-4112-dc9c-3422e33df7eb"
      },
      "execution_count": 15,
      "outputs": [
        {
          "output_type": "stream",
          "name": "stdout",
          "text": [
            "88.75\n"
          ]
        }
      ]
    },
    {
      "cell_type": "markdown",
      "source": [
        "13.  Create a class Rectangle with methods set_dimensions() to set the dimensions and area() to calculate the area."
      ],
      "metadata": {
        "id": "u2YT1zRv0uFC"
      }
    },
    {
      "cell_type": "code",
      "source": [
        "class Rectangle:\n",
        "    def set_dimensions(self, width, height):\n",
        "        self.width = width\n",
        "        self.height = height\n",
        "    def area(self):\n",
        "        return self.width * self.height\n",
        "rectangle = Rectangle()\n",
        "rectangle.set_dimensions(5, 10)\n",
        "print(rectangle.area())"
      ],
      "metadata": {
        "colab": {
          "base_uri": "https://localhost:8080/"
        },
        "id": "7OLeq2MP00AY",
        "outputId": "8de76369-fb26-4a10-c8db-609c9e1b18d8"
      },
      "execution_count": 16,
      "outputs": [
        {
          "output_type": "stream",
          "name": "stdout",
          "text": [
            "50\n"
          ]
        }
      ]
    },
    {
      "cell_type": "markdown",
      "source": [
        "14.  Create a class Employee with a method calculate_salary() that computes the salary based on hours worked and hourly rate. Create a derived class Manager that adds a bonus to the salary"
      ],
      "metadata": {
        "id": "qJbl-DLW1Flu"
      }
    },
    {
      "cell_type": "code",
      "source": [
        "class Employee:\n",
        "    def __init__(self, hours_worked, hourly_rate):\n",
        "        self.hours_worked = hours_worked\n",
        "        self.hourly_rate = hourly_rate\n",
        "\n",
        "    def calculate_salary(self):\n",
        "        return self.hours_worked * self.hourly_rate\n",
        "\n",
        "class Manager(Employee):\n",
        "    def __init__(self, hours_worked, hourly_rate, bonus):\n",
        "        super().__init__(hours_worked, hourly_rate)\n",
        "        self.bonus = bonus\n",
        "\n",
        "    def calculate_salary(self):\n",
        "        return super().calculate_salary() + self.bonus\n",
        "employee = Employee(40, 20)\n",
        "print(\"Employee salary:\", employee.calculate_salary())\n",
        "manager = Manager(40, 30, 500)\n",
        "print(\"Manager salary:\", manager.calculate_salary())\n"
      ],
      "metadata": {
        "colab": {
          "base_uri": "https://localhost:8080/"
        },
        "id": "UINWzncS1hGb",
        "outputId": "2e1ee543-2557-498c-ed8b-d5da534bf826"
      },
      "execution_count": 17,
      "outputs": [
        {
          "output_type": "stream",
          "name": "stdout",
          "text": [
            "Employee salary: 800\n",
            "Manager salary: 1700\n"
          ]
        }
      ]
    },
    {
      "cell_type": "markdown",
      "source": [
        "15.  Create a class Product with attributes name, price, and quantity. Implement a method total_price() that calculates the total price of the product."
      ],
      "metadata": {
        "id": "9hwxPkQ11_dc"
      }
    },
    {
      "cell_type": "code",
      "source": [
        "class Product:\n",
        "    def __init__(self, price, quantity):\n",
        "        self.price = price\n",
        "        self.quantity = quantity\n",
        "\n",
        "    def total_price(self):\n",
        "        return self.price * self.quantity\n",
        "product = Product(1000, 3)\n",
        "print(product.total_price())\n"
      ],
      "metadata": {
        "colab": {
          "base_uri": "https://localhost:8080/"
        },
        "id": "adFTSZCg2FeY",
        "outputId": "53a51d8e-405c-4117-d946-d8c8e85d5e3c"
      },
      "execution_count": 18,
      "outputs": [
        {
          "output_type": "stream",
          "name": "stdout",
          "text": [
            "3000\n"
          ]
        }
      ]
    },
    {
      "cell_type": "markdown",
      "source": [
        " 16. Create a class Animal with an abstract method sound(). Create two derived classes Cow and Sheep that implement the sound() method."
      ],
      "metadata": {
        "id": "SSAyG-7G2YkT"
      }
    },
    {
      "cell_type": "code",
      "source": [
        "from abc import ABC, abstractmethod\n",
        "\n",
        "class Animal(ABC):\n",
        "    @abstractmethod\n",
        "    def sound(self):\n",
        "        pass\n",
        "class Cow(Animal):\n",
        "    def sound(self):\n",
        "        return \"Mooooooooooooooooooooooooooooooooooooooooo\"\n",
        "\n",
        "class Sheep(Animal):\n",
        "    def sound(self):\n",
        "        return \"Baaing\"\n",
        "cow = Cow()\n",
        "sheep = Sheep()\n",
        "\n",
        "print(cow.sound())\n",
        "print(sheep.sound())\n"
      ],
      "metadata": {
        "colab": {
          "base_uri": "https://localhost:8080/"
        },
        "id": "on76Zo7H2dOL",
        "outputId": "e67e3e5a-e892-4958-f1ea-36895d2deccd"
      },
      "execution_count": 20,
      "outputs": [
        {
          "output_type": "stream",
          "name": "stdout",
          "text": [
            "Mooooooooooooooooooooooooooooooooooooooooo\n",
            "Baaing\n"
          ]
        }
      ]
    },
    {
      "cell_type": "markdown",
      "source": [
        " 17. Create a class Book with attributes title, author, and year_published. Add a method get_book_info() that returns a formatted string with the book's details."
      ],
      "metadata": {
        "id": "DRW6uzWJ3CLX"
      }
    },
    {
      "cell_type": "code",
      "source": [
        "class Book:\n",
        "    def __init__(self, title, author, year_published):\n",
        "        self.title = title\n",
        "        self.author = author\n",
        "        self.year_published = year_published\n",
        "\n",
        "    def get_book_info(self):\n",
        "        return f\"{self.title} by {self.author},will publish in {self.year_published}\"\n",
        "book = Book(\"My Lifepedia\", \"Faizan_Sir\", 2030)\n",
        "print(book.get_book_info())"
      ],
      "metadata": {
        "colab": {
          "base_uri": "https://localhost:8080/"
        },
        "id": "xRnmWW4l3JBZ",
        "outputId": "b98ac340-5def-49f0-f7e4-ad391653042e"
      },
      "execution_count": 24,
      "outputs": [
        {
          "output_type": "stream",
          "name": "stdout",
          "text": [
            "My Lifepedia by Faizan_Sir,will publish in 2030\n"
          ]
        }
      ]
    },
    {
      "cell_type": "markdown",
      "source": [
        "18.  Create a class House with attributes address and price. Create a derived class Mansion that adds an attribute number_of_rooms"
      ],
      "metadata": {
        "id": "6NX3sGUm3xHC"
      }
    },
    {
      "cell_type": "code",
      "source": [
        "class House:\n",
        "    def __init__(self, address, price):\n",
        "        self.address = address\n",
        "        self.price = price\n",
        "class Mansion(House):\n",
        "    def __init__(self, address, price, number_of_rooms):\n",
        "        super().__init__(address, price)\n",
        "        self.number_of_rooms = number_of_rooms\n",
        "house = House(\" Sasta OYO\", 250)\n",
        "mansion = Mansion(\"Mehenga OYO\", 10000000000000000, 10)\n",
        "print(f\"House: {house.address}, ₹{house.price}\")\n",
        "print(f\"Mansion: {mansion.address}, ₹{mansion.price}, Rooms: {mansion.number_of_rooms}\")\n"
      ],
      "metadata": {
        "colab": {
          "base_uri": "https://localhost:8080/"
        },
        "id": "6sdBI1zF33PT",
        "outputId": "d2187dd6-0ba9-42c7-cb67-b9bbf998195a"
      },
      "execution_count": 29,
      "outputs": [
        {
          "output_type": "stream",
          "name": "stdout",
          "text": [
            "House:  Sasta OYO, ₹250\n",
            "Mansion: Mehenga OYO, ₹10000000000000000, Rooms: 10\n"
          ]
        }
      ]
    }
  ]
}