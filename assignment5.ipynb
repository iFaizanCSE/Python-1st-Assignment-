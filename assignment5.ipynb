{
  "nbformat": 4,
  "nbformat_minor": 0,
  "metadata": {
    "colab": {
      "provenance": []
    },
    "kernelspec": {
      "name": "python3",
      "display_name": "Python 3"
    },
    "language_info": {
      "name": "python"
    }
  },
  "cells": [
    {
      "cell_type": "markdown",
      "source": [
        "1. What is the difference between interpreted and compiled languages?\n",
        "    - Compiled Languages: The source code is directly translated into machine code by a compiler. This machine code can then be executed directly by the computer's CPU. Examples include C, C++, Java (bytecode is compiled).\n",
        "    - Interpreted Languages: An interpreter executes the code line by line. It doesn't create an intermediate machine code file. Examples include Python, JavaScript, Ruby.\n",
        "2. What is exception handling in Python?\n",
        "  - Exception handling is a mechanism to deal with errors or unexpected situations that occur during program execution. It allows you to gracefully handle errors and prevent your program from crashing.\n",
        "3. What is the purpose of the finally block in exception handling?\n",
        "   - The finally block is executed regardless of whether an exception occurred\n",
        "     or not. It's useful for cleaning up resources, such as closing files or database connections, that were opened in the try block.\n",
        "4. What is logging in Python?\n",
        "   - Logging is a mechanism to record events that happen while a program is running. It's useful for debugging, monitoring, and troubleshooting. The logging module in Python provides various levels of logging e.g., DEBUG, INFO, WARNING, ERROR, CRITICAL,and allows you to customize how and where log messages are written.\n",
        "5. What is the significance of the __del__ method in Python?\n",
        "  - The __del__ method is a special method (also called a destructor) that is called when an object is about to be garbage collected. It can be used to perform cleanup tasks before the object is destroyed.\n",
        "6. What is the difference between import and from...import in Python?\n",
        "   - import: Imports the entire module into the current namespace. To access specific functions or classes, you need to use the module name as a prefix  e.g., module_name.function_name.\n",
        "   - from...import: Imports specific entities (functions, classes, variables) from a module directly into the current namespace. You can then use them without the module name prefix.\n",
        "\n",
        "7. How can you handle multiple exceptions in Python?\n",
        "  - You can use multiple except blocks to handle different types of exceptions:  \n",
        "- try:\n",
        "    ###### Code that might raise exceptions\n",
        "except TypeError:\n",
        "    ###### Handle TypeError\n",
        "except ValueError:\n",
        "    ###### Handle ValueError\n",
        "except Exception:  # Catch all other exceptions\n",
        "    ###### Handle general exceptions\n",
        "8. What is the purpose of the with statement when handling files in Python?\n",
        "  - The with statement ensures that the file is automatically closed even if an\n",
        "     exception occurs. It simplifies file handling by managing the opening and closing of the file.\n",
        "  - with open(\"file.txt\", \"r\") as f:\n",
        "    ###### Read and process the file\n",
        "9. What is the difference between multithreading and multiprocessing?\n",
        "  - Multithreading\n",
        "•\tMultiple threads within a single process.\n",
        "•\tThreads share the same memory space.\n",
        "•\tGenerally lower overhead.\n",
        "  - Multiprocessing\n",
        "•\tMultiple independent processes.\n",
        "•\tEach process has its own memory space.\n",
        "•\tHigher overhead due to inter-process communication.\n",
        "10. What are the advantages of using logging in a program?\n",
        "  - Debugging: Helps identify and fix issues.\n",
        "  - \tMonitoring: Track program behavior and performance.\n",
        "  - Troubleshooting: Diagnose problems in production environments.\n",
        "  -  Auditing: Record user actions or system events for compliance or security purposes.\n",
        "11. What are the basic steps involved in exception handling in Python?\n",
        "   - try block: Enclose the code that might raise an exception.\n",
        " - except block: Handle specific exceptions that might occur in the try block.\n",
        "  - finally block (optional): Execute code regardless of whether an exception occurred or not.\n",
        "12. What is memory management in Python?\n",
        "  - Memory management is the process of allocating and deallocating memory for objects during program execution. Python has a built-in garbage collector that automatically reclaims memory occupied by objects that are no longer in use.\n",
        "13. Why is memory management important in Python?\n",
        "  - Resource Efficiency: Prevents memory leaks, which can lead to slow performance or program crashes.\n",
        "  - Stability: Ensures that the program has enough memory to run smoothly.\n",
        "14. Why is the try and except important in exception handling?\n",
        "  - The try block executes the code that might raise an exception. If an\n",
        "   exception occurs, the except block is executed to handle the error gracefully and prevent the program from crashing.\n",
        "15. How does Python's garbage collection system work?\n",
        "  - Python uses a reference counting mechanism to track how many references point to an object. When the reference count of an object becomes zero, it means the object is no longer accessible, and the garbage collector reclaims the memory occupied by the object.\n",
        "16. What is the purpose of the else block in exception handling?\n",
        "  - The else block is executed if no exceptions occurred in the try block. It's useful for code that should only run if the try block executed successfully.\n",
        "17. What are the common logging levels in Python?\n",
        "  - DEBUG: Detailed information for debugging.\n",
        "  - INFO: General information about the program's progress.\n",
        "  - \tWARNING: Potentially problematic situations.\n",
        "  - \tERROR: Errors that may have significant consequences.\n",
        "  - CRITICAL: Serious errors that may prevent the program from continuing.\n",
        "18. What is the difference between os.fork() and multiprocessing in Python?\n",
        "  - \tos.fork() (Unix-like systems): Creates a child process that is a copy of the parent process. It's a low-level mechanism for creating processes.\n",
        " -  multiprocessing module: Provides a higher-level interface for creating and managing processes. It's easier to use and offers more features than os.fork().\n",
        "19. What is the importance of closing a file in Python?\n",
        "  - Closing a file releases the system resources associated with the file,\n",
        "   preventing potential errors and ensuring that data is written correctly to the file.\n",
        "20. What is the difference between file.read() and file.readline() in Python?\n",
        "  -\tfile.read(): Reads the entire contents of the file as a single string.\n",
        "   - file.readline(): Reads a single line from the file, including the newline character.\n",
        "21. What is the logging module in Python used for?\n",
        "  - The logging module is used for creating and managing log records. It provides various levels of logging, handlers (to send log messages to different destinations), and formatters to customize the output of log messages.\n",
        "22. What is the os module in Python used for in file handling?\n",
        "  - The os module provides functions for interacting with the operating system, including:\n",
        "  - Getting information about files and directories (e.g., os.path.exists(), os.path.isfile())\n",
        "  - Creating, renaming, and deleting files and directories\n",
        "  - Changing the current working directory\n",
        "23. What are the challenges associated with memory management in Python?\n",
        "  - \tCircular References: Objects can create circular references, making it difficult for the garbage collector to detect and reclaim them.\n",
        "  - Large Data Structures: Managing large data structures can consume significant memory.\n",
        "24. How do you raise an exception manually in Python?\n",
        "  - Use the raise statement followed by the exception class and an optional     error message:\n",
        "  -  raise ValueError(\"Invalid value\")\n",
        "25. Why is it important to use multithreading in certain applications?\n",
        "  -\tConcurrency: Allows multiple tasks to run concurrently within a single process, improving responsiveness and utilizing CPU resources more efficiently.\n",
        "  - I/O-bound tasks: Multithreading can overlap I/O operations (like network requests) with other tasks, improving overall performance.\n",
        "  \n",
        "**Practical Questions**\n",
        "\n",
        "1.  How can you open a file for writing in Python and write a string to it?\n",
        "\n"
      ],
      "metadata": {
        "id": "qp_hqLtGkklQ"
      }
    },
    {
      "cell_type": "markdown",
      "source": [],
      "metadata": {
        "id": "9B5VBZ5ladme"
      }
    },
    {
      "cell_type": "code",
      "source": [
        "with open(\"output.txt\", \"w\") as file:\n",
        "    file.write(\"This is Faizan Ahmad , a Data Science Engineer.\\n\")"
      ],
      "metadata": {
        "id": "LApb7qCPqzbO"
      },
      "execution_count": null,
      "outputs": []
    },
    {
      "cell_type": "markdown",
      "source": [
        "2. Write a Python program to read the contents of a file and print each line."
      ],
      "metadata": {
        "id": "Gb1ThLLzrKkg"
      }
    },
    {
      "cell_type": "code",
      "source": [
        "with open(\"input.txt\", \"r\") as file:\n",
        "    for line in file:\n",
        "        print(line.strip())"
      ],
      "metadata": {
        "colab": {
          "base_uri": "https://localhost:8080/",
          "height": 176
        },
        "id": "fScRRBBXrQej",
        "outputId": "7b36e01b-4fd0-401a-897a-055fc0974d8e"
      },
      "execution_count": null,
      "outputs": [
        {
          "output_type": "error",
          "ename": "FileNotFoundError",
          "evalue": "[Errno 2] No such file or directory: 'input.txt'",
          "traceback": [
            "\u001b[0;31m---------------------------------------------------------------------------\u001b[0m",
            "\u001b[0;31mFileNotFoundError\u001b[0m                         Traceback (most recent call last)",
            "\u001b[0;32m<ipython-input-3-d2cbfb3c18a5>\u001b[0m in \u001b[0;36m<cell line: 0>\u001b[0;34m()\u001b[0m\n\u001b[0;32m----> 1\u001b[0;31m \u001b[0;32mwith\u001b[0m \u001b[0mopen\u001b[0m\u001b[0;34m(\u001b[0m\u001b[0;34m\"input.txt\"\u001b[0m\u001b[0;34m,\u001b[0m \u001b[0;34m\"r\"\u001b[0m\u001b[0;34m)\u001b[0m \u001b[0;32mas\u001b[0m \u001b[0mfile\u001b[0m\u001b[0;34m:\u001b[0m\u001b[0;34m\u001b[0m\u001b[0;34m\u001b[0m\u001b[0m\n\u001b[0m\u001b[1;32m      2\u001b[0m     \u001b[0;32mfor\u001b[0m \u001b[0mline\u001b[0m \u001b[0;32min\u001b[0m \u001b[0mfile\u001b[0m\u001b[0;34m:\u001b[0m\u001b[0;34m\u001b[0m\u001b[0;34m\u001b[0m\u001b[0m\n\u001b[1;32m      3\u001b[0m         \u001b[0mprint\u001b[0m\u001b[0;34m(\u001b[0m\u001b[0mline\u001b[0m\u001b[0;34m.\u001b[0m\u001b[0mstrip\u001b[0m\u001b[0;34m(\u001b[0m\u001b[0;34m)\u001b[0m\u001b[0;34m)\u001b[0m\u001b[0;34m\u001b[0m\u001b[0;34m\u001b[0m\u001b[0m\n",
            "\u001b[0;31mFileNotFoundError\u001b[0m: [Errno 2] No such file or directory: 'input.txt'"
          ]
        }
      ]
    },
    {
      "cell_type": "markdown",
      "source": [
        "3. How would you handle a case where the file doesn't exist while trying to open it for reading?"
      ],
      "metadata": {
        "id": "SeelNlVarWuz"
      }
    },
    {
      "cell_type": "code",
      "source": [
        "try:\n",
        "    with open(\"input.txt\", \"r\") as file:\n",
        "        # ... read the file\n",
        "except FileNotFoundError:\n",
        "    print(\"File not found.\")"
      ],
      "metadata": {
        "colab": {
          "base_uri": "https://localhost:8080/",
          "height": 106
        },
        "id": "T0v73GJAreee",
        "outputId": "e45590af-3fce-4f59-bcc7-36dd33ad61c9"
      },
      "execution_count": null,
      "outputs": [
        {
          "output_type": "error",
          "ename": "IndentationError",
          "evalue": "expected an indented block after 'with' statement on line 2 (<ipython-input-4-a8aa9a59e83c>, line 4)",
          "traceback": [
            "\u001b[0;36m  File \u001b[0;32m\"<ipython-input-4-a8aa9a59e83c>\"\u001b[0;36m, line \u001b[0;32m4\u001b[0m\n\u001b[0;31m    except FileNotFoundError:\u001b[0m\n\u001b[0m                             ^\u001b[0m\n\u001b[0;31mIndentationError\u001b[0m\u001b[0;31m:\u001b[0m expected an indented block after 'with' statement on line 2\n"
          ]
        }
      ]
    },
    {
      "cell_type": "markdown",
      "source": [
        "4. Write a Python script that reads from one file and writes its content to another file."
      ],
      "metadata": {
        "id": "LxCVoZ9fruCM"
      }
    },
    {
      "cell_type": "code",
      "source": [
        "with open(\"input.txt\", \"r\") as infile, open(\"output.txt\", \"w\") as outfile:\n",
        "    for line in infile:\n",
        "        outfile.write(line)"
      ],
      "metadata": {
        "colab": {
          "base_uri": "https://localhost:8080/",
          "height": 176
        },
        "id": "RRO8T7uKr2i_",
        "outputId": "9f697e1b-2e6d-4e8f-c62b-6674caf271c1"
      },
      "execution_count": null,
      "outputs": [
        {
          "output_type": "error",
          "ename": "FileNotFoundError",
          "evalue": "[Errno 2] No such file or directory: 'input.txt'",
          "traceback": [
            "\u001b[0;31m---------------------------------------------------------------------------\u001b[0m",
            "\u001b[0;31mFileNotFoundError\u001b[0m                         Traceback (most recent call last)",
            "\u001b[0;32m<ipython-input-5-5c7e7436d019>\u001b[0m in \u001b[0;36m<cell line: 0>\u001b[0;34m()\u001b[0m\n\u001b[0;32m----> 1\u001b[0;31m \u001b[0;32mwith\u001b[0m \u001b[0mopen\u001b[0m\u001b[0;34m(\u001b[0m\u001b[0;34m\"input.txt\"\u001b[0m\u001b[0;34m,\u001b[0m \u001b[0;34m\"r\"\u001b[0m\u001b[0;34m)\u001b[0m \u001b[0;32mas\u001b[0m \u001b[0minfile\u001b[0m\u001b[0;34m,\u001b[0m \u001b[0mopen\u001b[0m\u001b[0;34m(\u001b[0m\u001b[0;34m\"output.txt\"\u001b[0m\u001b[0;34m,\u001b[0m \u001b[0;34m\"w\"\u001b[0m\u001b[0;34m)\u001b[0m \u001b[0;32mas\u001b[0m \u001b[0moutfile\u001b[0m\u001b[0;34m:\u001b[0m\u001b[0;34m\u001b[0m\u001b[0;34m\u001b[0m\u001b[0m\n\u001b[0m\u001b[1;32m      2\u001b[0m     \u001b[0;32mfor\u001b[0m \u001b[0mline\u001b[0m \u001b[0;32min\u001b[0m \u001b[0minfile\u001b[0m\u001b[0;34m:\u001b[0m\u001b[0;34m\u001b[0m\u001b[0;34m\u001b[0m\u001b[0m\n\u001b[1;32m      3\u001b[0m         \u001b[0moutfile\u001b[0m\u001b[0;34m.\u001b[0m\u001b[0mwrite\u001b[0m\u001b[0;34m(\u001b[0m\u001b[0mline\u001b[0m\u001b[0;34m)\u001b[0m\u001b[0;34m\u001b[0m\u001b[0;34m\u001b[0m\u001b[0m\n",
            "\u001b[0;31mFileNotFoundError\u001b[0m: [Errno 2] No such file or directory: 'input.txt'"
          ]
        }
      ]
    },
    {
      "cell_type": "markdown",
      "source": [
        "5. How would you catch and handle division by zero error in Python?"
      ],
      "metadata": {
        "id": "tdM-Tzz8r7Lb"
      }
    },
    {
      "cell_type": "code",
      "source": [
        "try:\n",
        "    result = 10 / 0\n",
        "except ZeroDivisionError:\n",
        "    print(\"Error: Division by zero.\")"
      ],
      "metadata": {
        "colab": {
          "base_uri": "https://localhost:8080/"
        },
        "id": "KLubEdKZsElB",
        "outputId": "cc74a52f-8a4e-4872-da83-d0bc2b6f0c75"
      },
      "execution_count": null,
      "outputs": [
        {
          "output_type": "stream",
          "name": "stdout",
          "text": [
            "Error: Division by zero.\n"
          ]
        }
      ]
    },
    {
      "cell_type": "markdown",
      "source": [
        "6. Write a Python program that logs an error message to a log file when a division by zero exception occurs."
      ],
      "metadata": {
        "id": "ALCNl2_6sJ4I"
      }
    },
    {
      "cell_type": "code",
      "source": [
        "import logging\n",
        "\n",
        "logging.basicConfig(filename=\"error.log\", level=logging.ERROR)\n",
        "\n",
        "try:\n",
        "    result = 10 / 0\n",
        "except ZeroDivisionError:\n",
        "    logging.error(\"Division by zero occurred.\")"
      ],
      "metadata": {
        "colab": {
          "base_uri": "https://localhost:8080/"
        },
        "id": "sNTyzHwcsQAs",
        "outputId": "8fef70c2-8cdc-45de-afcb-55c4c0f4729c"
      },
      "execution_count": null,
      "outputs": [
        {
          "output_type": "stream",
          "name": "stderr",
          "text": [
            "ERROR:root:Division by zero occurred.\n"
          ]
        }
      ]
    },
    {
      "cell_type": "markdown",
      "source": [
        "7.  How do you log information at different levels (INFO, ERROR, WARNING) in Python using the logging module?"
      ],
      "metadata": {
        "id": "pzE319UzsUWl"
      }
    },
    {
      "cell_type": "code",
      "source": [
        "import logging\n",
        "\n",
        "logging.basicConfig(level=logging.DEBUG)  # Set the desired logging level\n",
        "\n",
        "logging.debug(\"Debug message\")\n",
        "logging.info(\"Info message\")\n",
        "logging.warning(\"Warning message\")\n",
        "logging.error(\"Error message\")\n",
        "logging.critical(\"Critical message\")"
      ],
      "metadata": {
        "colab": {
          "base_uri": "https://localhost:8080/"
        },
        "id": "O1m61klisae7",
        "outputId": "9e001614-1512-4ee5-a429-d720acc63532"
      },
      "execution_count": null,
      "outputs": [
        {
          "output_type": "stream",
          "name": "stderr",
          "text": [
            "WARNING:root:Warning message\n",
            "ERROR:root:Error message\n",
            "CRITICAL:root:Critical message\n"
          ]
        }
      ]
    },
    {
      "cell_type": "markdown",
      "source": [
        "8. Write a program to handle a file opening error using exception handling"
      ],
      "metadata": {
        "id": "7zEcLCYYsflB"
      }
    },
    {
      "cell_type": "code",
      "source": [
        "try:\n",
        "    with open(\"input.txt\", \"r\") as file:\n",
        "        # ... read the file\n",
        "except FileNotFoundError:\n",
        "    print(\"File not found.\")\n",
        "except IOError:\n",
        "    print(\"An I/O error occurred.\")"
      ],
      "metadata": {
        "colab": {
          "base_uri": "https://localhost:8080/",
          "height": 106
        },
        "id": "z4u8BXpQsnWG",
        "outputId": "76f1be59-ff66-4eb4-c741-006db6704b26"
      },
      "execution_count": null,
      "outputs": [
        {
          "output_type": "error",
          "ename": "IndentationError",
          "evalue": "expected an indented block after 'with' statement on line 2 (<ipython-input-9-951833acffde>, line 4)",
          "traceback": [
            "\u001b[0;36m  File \u001b[0;32m\"<ipython-input-9-951833acffde>\"\u001b[0;36m, line \u001b[0;32m4\u001b[0m\n\u001b[0;31m    except FileNotFoundError:\u001b[0m\n\u001b[0m                             ^\u001b[0m\n\u001b[0;31mIndentationError\u001b[0m\u001b[0;31m:\u001b[0m expected an indented block after 'with' statement on line 2\n"
          ]
        }
      ]
    },
    {
      "cell_type": "markdown",
      "source": [
        "9. How can you read a file line by line and store its content in a list in Python?"
      ],
      "metadata": {
        "id": "dg41odVssuuj"
      }
    },
    {
      "cell_type": "code",
      "source": [
        "with open(\"input.txt\", \"r\") as file:\n",
        "    lines = file.readlines()"
      ],
      "metadata": {
        "colab": {
          "base_uri": "https://localhost:8080/",
          "height": 158
        },
        "id": "3a4Fgaxcs1xH",
        "outputId": "0da2d45a-7fac-449f-a94d-01473ac50d13"
      },
      "execution_count": null,
      "outputs": [
        {
          "output_type": "error",
          "ename": "FileNotFoundError",
          "evalue": "[Errno 2] No such file or directory: 'input.txt'",
          "traceback": [
            "\u001b[0;31m---------------------------------------------------------------------------\u001b[0m",
            "\u001b[0;31mFileNotFoundError\u001b[0m                         Traceback (most recent call last)",
            "\u001b[0;32m<ipython-input-10-462c21a7e6ee>\u001b[0m in \u001b[0;36m<cell line: 0>\u001b[0;34m()\u001b[0m\n\u001b[0;32m----> 1\u001b[0;31m \u001b[0;32mwith\u001b[0m \u001b[0mopen\u001b[0m\u001b[0;34m(\u001b[0m\u001b[0;34m\"input.txt\"\u001b[0m\u001b[0;34m,\u001b[0m \u001b[0;34m\"r\"\u001b[0m\u001b[0;34m)\u001b[0m \u001b[0;32mas\u001b[0m \u001b[0mfile\u001b[0m\u001b[0;34m:\u001b[0m\u001b[0;34m\u001b[0m\u001b[0;34m\u001b[0m\u001b[0m\n\u001b[0m\u001b[1;32m      2\u001b[0m     \u001b[0mlines\u001b[0m \u001b[0;34m=\u001b[0m \u001b[0mfile\u001b[0m\u001b[0;34m.\u001b[0m\u001b[0mreadlines\u001b[0m\u001b[0;34m(\u001b[0m\u001b[0;34m)\u001b[0m\u001b[0;34m\u001b[0m\u001b[0;34m\u001b[0m\u001b[0m\n",
            "\u001b[0;31mFileNotFoundError\u001b[0m: [Errno 2] No such file or directory: 'input.txt'"
          ]
        }
      ]
    },
    {
      "cell_type": "markdown",
      "source": [
        "10. How can you append data to an existing file in Python?"
      ],
      "metadata": {
        "id": "rnqYSqKhtFUn"
      }
    },
    {
      "cell_type": "code",
      "source": [
        "with open(\"output.txt\", \"a\") as file:\n",
        "    file.write(\"Appended line.\\n\")"
      ],
      "metadata": {
        "id": "DVkBTARrtNAi"
      },
      "execution_count": null,
      "outputs": []
    },
    {
      "cell_type": "markdown",
      "source": [
        "11. Write a Python program that uses a try-except block to handle an error when attempting to access a dictionary key that doesn't exist."
      ],
      "metadata": {
        "id": "nOjWWreitP_g"
      }
    },
    {
      "cell_type": "code",
      "source": [
        "my_dict = {\"key1\": \"value1\"}\n",
        "try:\n",
        "    value = my_dict[\"nonexistent_key\"]\n",
        "except KeyError:\n",
        "    print(\"Key not found.\")"
      ],
      "metadata": {
        "colab": {
          "base_uri": "https://localhost:8080/"
        },
        "id": "ncQMFoVttXFt",
        "outputId": "72e9a3ef-6726-4d1f-9f40-d025a79502b4"
      },
      "execution_count": null,
      "outputs": [
        {
          "output_type": "stream",
          "name": "stdout",
          "text": [
            "Key not found.\n"
          ]
        }
      ]
    },
    {
      "cell_type": "markdown",
      "source": [
        "12. Write a program that demonstrates using multiple except blocks to handle different types of exceptions."
      ],
      "metadata": {
        "id": "4Oy8D8Ibaiyt"
      }
    },
    {
      "cell_type": "code",
      "source": [
        "try:\n",
        "    result = 10 / 0\n",
        "    value = my_dict['c']  # Assuming my_dict is defined\n",
        "except ZeroDivisionError:\n",
        "    print(\"Division by zero error occurred.\")\n",
        "except KeyError:\n",
        "    print(\"Key not found error occurred.\")"
      ],
      "metadata": {
        "colab": {
          "base_uri": "https://localhost:8080/"
        },
        "id": "sPq59ljsajoF",
        "outputId": "ae4ec467-d61d-4a97-eddb-9881eefc44c9"
      },
      "execution_count": 1,
      "outputs": [
        {
          "output_type": "stream",
          "name": "stdout",
          "text": [
            "Division by zero error occurred.\n"
          ]
        }
      ]
    },
    {
      "cell_type": "markdown",
      "source": [
        "13. How would you check if a file exists before attempting to read it in Python?"
      ],
      "metadata": {
        "id": "LdKQMzfZasHZ"
      }
    },
    {
      "cell_type": "code",
      "source": [
        "import os\n",
        "\n",
        "if os.path.exists('my_file.txt'):\n",
        "    with open('my_file.txt', 'r') as file:\n",
        "        # Read the file\n",
        "else:\n",
        "    print(\"File does not exist.\")"
      ],
      "metadata": {
        "colab": {
          "base_uri": "https://localhost:8080/",
          "height": 106
        },
        "id": "bcV1x6hRauHl",
        "outputId": "dbd252d2-bc7b-4788-80b2-5d713ccc0c7e"
      },
      "execution_count": 2,
      "outputs": [
        {
          "output_type": "error",
          "ename": "IndentationError",
          "evalue": "expected an indented block after 'with' statement on line 4 (<ipython-input-2-f1f5f253cae9>, line 6)",
          "traceback": [
            "\u001b[0;36m  File \u001b[0;32m\"<ipython-input-2-f1f5f253cae9>\"\u001b[0;36m, line \u001b[0;32m6\u001b[0m\n\u001b[0;31m    else:\u001b[0m\n\u001b[0m         ^\u001b[0m\n\u001b[0;31mIndentationError\u001b[0m\u001b[0;31m:\u001b[0m expected an indented block after 'with' statement on line 4\n"
          ]
        }
      ]
    },
    {
      "cell_type": "markdown",
      "source": [
        "14. Write a program that uses the logging module to log both informational and error messages."
      ],
      "metadata": {
        "id": "A_bi323uawgY"
      }
    },
    {
      "cell_type": "code",
      "source": [
        "import logging\n",
        "\n",
        "logging.basicConfig(filename='my_log.log', level=logging.INFO)\n",
        "\n",
        "logging.info(\"This is an informational message.\")\n",
        "\n",
        "try:\n",
        "    result = 10 / 0\n",
        "except ZeroDivisionError:\n",
        "    logging.error(\"Division by zero error occurred.\")"
      ],
      "metadata": {
        "colab": {
          "base_uri": "https://localhost:8080/"
        },
        "id": "RbiOTZEKazUX",
        "outputId": "95c139c7-9477-4da0-d75a-e3ff6b2a6d46"
      },
      "execution_count": 3,
      "outputs": [
        {
          "output_type": "stream",
          "name": "stderr",
          "text": [
            "ERROR:root:Division by zero error occurred.\n"
          ]
        }
      ]
    },
    {
      "cell_type": "markdown",
      "source": [
        "15. Write a Python program that prints the content of a file and handles the case when the file is empty."
      ],
      "metadata": {
        "id": "bUOvU5n1a1Ut"
      }
    },
    {
      "cell_type": "code",
      "source": [
        "with open('my_file.txt', 'r') as file:\n",
        "    content = file.read()\n",
        "    if content:\n",
        "        print(content)\n",
        "    else:\n",
        "        print(\"File is empty.\")"
      ],
      "metadata": {
        "colab": {
          "base_uri": "https://localhost:8080/",
          "height": 211
        },
        "id": "c1HYBlO3a6tw",
        "outputId": "215afb19-7622-44e1-a90a-3d45e1f59232"
      },
      "execution_count": 4,
      "outputs": [
        {
          "output_type": "error",
          "ename": "FileNotFoundError",
          "evalue": "[Errno 2] No such file or directory: 'my_file.txt'",
          "traceback": [
            "\u001b[0;31m---------------------------------------------------------------------------\u001b[0m",
            "\u001b[0;31mFileNotFoundError\u001b[0m                         Traceback (most recent call last)",
            "\u001b[0;32m<ipython-input-4-90b9049f6ef5>\u001b[0m in \u001b[0;36m<cell line: 0>\u001b[0;34m()\u001b[0m\n\u001b[0;32m----> 1\u001b[0;31m \u001b[0;32mwith\u001b[0m \u001b[0mopen\u001b[0m\u001b[0;34m(\u001b[0m\u001b[0;34m'my_file.txt'\u001b[0m\u001b[0;34m,\u001b[0m \u001b[0;34m'r'\u001b[0m\u001b[0;34m)\u001b[0m \u001b[0;32mas\u001b[0m \u001b[0mfile\u001b[0m\u001b[0;34m:\u001b[0m\u001b[0;34m\u001b[0m\u001b[0;34m\u001b[0m\u001b[0m\n\u001b[0m\u001b[1;32m      2\u001b[0m     \u001b[0mcontent\u001b[0m \u001b[0;34m=\u001b[0m \u001b[0mfile\u001b[0m\u001b[0;34m.\u001b[0m\u001b[0mread\u001b[0m\u001b[0;34m(\u001b[0m\u001b[0;34m)\u001b[0m\u001b[0;34m\u001b[0m\u001b[0;34m\u001b[0m\u001b[0m\n\u001b[1;32m      3\u001b[0m     \u001b[0;32mif\u001b[0m \u001b[0mcontent\u001b[0m\u001b[0;34m:\u001b[0m\u001b[0;34m\u001b[0m\u001b[0;34m\u001b[0m\u001b[0m\n\u001b[1;32m      4\u001b[0m         \u001b[0mprint\u001b[0m\u001b[0;34m(\u001b[0m\u001b[0mcontent\u001b[0m\u001b[0;34m)\u001b[0m\u001b[0;34m\u001b[0m\u001b[0;34m\u001b[0m\u001b[0m\n\u001b[1;32m      5\u001b[0m     \u001b[0;32melse\u001b[0m\u001b[0;34m:\u001b[0m\u001b[0;34m\u001b[0m\u001b[0;34m\u001b[0m\u001b[0m\n",
            "\u001b[0;31mFileNotFoundError\u001b[0m: [Errno 2] No such file or directory: 'my_file.txt'"
          ]
        }
      ]
    },
    {
      "cell_type": "markdown",
      "source": [
        "16. Demonstrate how to use memory profiling to check the memory usage of a small program."
      ],
      "metadata": {
        "id": "IHNw0wiLa9kY"
      }
    },
    {
      "cell_type": "code",
      "source": [
        "from memory_profiler import profile\n",
        "\n",
        "@profile\n",
        "def my_function():\n",
        "    # Code to profile\n",
        "    pass\n",
        "\n",
        "my_function()"
      ],
      "metadata": {
        "colab": {
          "base_uri": "https://localhost:8080/",
          "height": 383
        },
        "id": "baurEYVubEMN",
        "outputId": "0c37c355-fcc9-4e83-e90a-e2b03e5601ff"
      },
      "execution_count": 5,
      "outputs": [
        {
          "output_type": "error",
          "ename": "ModuleNotFoundError",
          "evalue": "No module named 'memory_profiler'",
          "traceback": [
            "\u001b[0;31m---------------------------------------------------------------------------\u001b[0m",
            "\u001b[0;31mModuleNotFoundError\u001b[0m                       Traceback (most recent call last)",
            "\u001b[0;32m<ipython-input-5-4541a119ee94>\u001b[0m in \u001b[0;36m<cell line: 0>\u001b[0;34m()\u001b[0m\n\u001b[0;32m----> 1\u001b[0;31m \u001b[0;32mfrom\u001b[0m \u001b[0mmemory_profiler\u001b[0m \u001b[0;32mimport\u001b[0m \u001b[0mprofile\u001b[0m\u001b[0;34m\u001b[0m\u001b[0;34m\u001b[0m\u001b[0m\n\u001b[0m\u001b[1;32m      2\u001b[0m \u001b[0;34m\u001b[0m\u001b[0m\n\u001b[1;32m      3\u001b[0m \u001b[0;34m@\u001b[0m\u001b[0mprofile\u001b[0m\u001b[0;34m\u001b[0m\u001b[0;34m\u001b[0m\u001b[0m\n\u001b[1;32m      4\u001b[0m \u001b[0;32mdef\u001b[0m \u001b[0mmy_function\u001b[0m\u001b[0;34m(\u001b[0m\u001b[0;34m)\u001b[0m\u001b[0;34m:\u001b[0m\u001b[0;34m\u001b[0m\u001b[0;34m\u001b[0m\u001b[0m\n\u001b[1;32m      5\u001b[0m     \u001b[0;31m# Code to profile\u001b[0m\u001b[0;34m\u001b[0m\u001b[0;34m\u001b[0m\u001b[0m\n",
            "\u001b[0;31mModuleNotFoundError\u001b[0m: No module named 'memory_profiler'",
            "",
            "\u001b[0;31m---------------------------------------------------------------------------\u001b[0;32m\nNOTE: If your import is failing due to a missing package, you can\nmanually install dependencies using either !pip or !apt.\n\nTo view examples of installing some common dependencies, click the\n\"Open Examples\" button below.\n\u001b[0;31m---------------------------------------------------------------------------\u001b[0m\n"
          ],
          "errorDetails": {
            "actions": [
              {
                "action": "open_url",
                "actionText": "Open Examples",
                "url": "/notebooks/snippets/importing_libraries.ipynb"
              }
            ]
          }
        }
      ]
    },
    {
      "cell_type": "markdown",
      "source": [
        "17. Write a Python program to create and write a list of numbers to a file, one number per line."
      ],
      "metadata": {
        "id": "UL-9ybHybJKC"
      }
    },
    {
      "cell_type": "code",
      "source": [
        "numbers = [1, 2, 3, 4, 5]\n",
        "\n",
        "with open('numbers.txt', 'w') as file:\n",
        "    for number in numbers:\n",
        "        file.write(str(number) + '\\n')"
      ],
      "metadata": {
        "id": "vB_RvBwYbL4Q"
      },
      "execution_count": 6,
      "outputs": []
    },
    {
      "cell_type": "markdown",
      "source": [
        "18. How would you implement a basic logging setup that logs to a file with rotation after 1MB?"
      ],
      "metadata": {
        "id": "aS0trJ23bPm5"
      }
    },
    {
      "cell_type": "code",
      "source": [
        "import logging\n",
        "from logging.handlers import RotatingFileHandler\n",
        "\n",
        "handler = RotatingFileHandler('my_log.log', maxBytes=1024*1024, backupCount=5)  # 1MB per file\n",
        "handler.setLevel(logging.INFO)\n",
        "\n",
        "formatter = logging.Formatter('%(asctime)s - %(levelname)s - %(message)s')\n",
        "handler.setFormatter(formatter)\n",
        "\n",
        "logger = logging.getLogger(__name__)\n",
        "logger.setLevel(logging.INFO)\n",
        "logger.addHandler(handler)\n",
        "\n",
        "# Log some messages\n",
        "logger.info(\"This is an informational message.\")\n",
        "logger.error(\"This is an error message.\")"
      ],
      "metadata": {
        "colab": {
          "base_uri": "https://localhost:8080/"
        },
        "id": "bC6KQWeFbRZw",
        "outputId": "65e58534-d46f-4472-ebd0-45eb1c127719"
      },
      "execution_count": 7,
      "outputs": [
        {
          "output_type": "stream",
          "name": "stderr",
          "text": [
            "INFO:__main__:This is an informational message.\n",
            "ERROR:__main__:This is an error message.\n"
          ]
        }
      ]
    },
    {
      "cell_type": "markdown",
      "source": [
        "19. Write a program that handles both IndexError and KeyError using a try-except block."
      ],
      "metadata": {
        "id": "_NnL6X4vbWCp"
      }
    },
    {
      "cell_type": "code",
      "source": [
        "my_list = [1, 2, 3]\n",
        "my_dict = {'a': 1, 'b': 2}\n",
        "\n",
        "try:\n",
        "    value1 = my_list[5]  # Will raise IndexError\n",
        "    value2 = my_dict['c']  # Will raise KeyError\n",
        "except (IndexError, KeyError) as e:\n",
        "    print(f\"Error: {e}\")"
      ],
      "metadata": {
        "colab": {
          "base_uri": "https://localhost:8080/"
        },
        "id": "8UdoZLJKbWsX",
        "outputId": "c20d400c-e8d7-455a-846f-a790e0df6ab1"
      },
      "execution_count": 8,
      "outputs": [
        {
          "output_type": "stream",
          "name": "stdout",
          "text": [
            "Error: list index out of range\n"
          ]
        }
      ]
    },
    {
      "cell_type": "markdown",
      "source": [
        "20. How would you open a file and read its contents using a context manager in Python?"
      ],
      "metadata": {
        "id": "1haYtGERbZFo"
      }
    },
    {
      "cell_type": "code",
      "source": [
        "with open('my_file.txt', 'r') as file:\n",
        "    content = file.read()\n",
        "    print(content)"
      ],
      "metadata": {
        "colab": {
          "base_uri": "https://localhost:8080/",
          "height": 176
        },
        "id": "63Rtg613bgsu",
        "outputId": "41d7bbe0-2f1e-4e30-8b71-96411e3d5bf8"
      },
      "execution_count": 9,
      "outputs": [
        {
          "output_type": "error",
          "ename": "FileNotFoundError",
          "evalue": "[Errno 2] No such file or directory: 'my_file.txt'",
          "traceback": [
            "\u001b[0;31m---------------------------------------------------------------------------\u001b[0m",
            "\u001b[0;31mFileNotFoundError\u001b[0m                         Traceback (most recent call last)",
            "\u001b[0;32m<ipython-input-9-0d0b332cf7d2>\u001b[0m in \u001b[0;36m<cell line: 0>\u001b[0;34m()\u001b[0m\n\u001b[0;32m----> 1\u001b[0;31m \u001b[0;32mwith\u001b[0m \u001b[0mopen\u001b[0m\u001b[0;34m(\u001b[0m\u001b[0;34m'my_file.txt'\u001b[0m\u001b[0;34m,\u001b[0m \u001b[0;34m'r'\u001b[0m\u001b[0;34m)\u001b[0m \u001b[0;32mas\u001b[0m \u001b[0mfile\u001b[0m\u001b[0;34m:\u001b[0m\u001b[0;34m\u001b[0m\u001b[0;34m\u001b[0m\u001b[0m\n\u001b[0m\u001b[1;32m      2\u001b[0m     \u001b[0mcontent\u001b[0m \u001b[0;34m=\u001b[0m \u001b[0mfile\u001b[0m\u001b[0;34m.\u001b[0m\u001b[0mread\u001b[0m\u001b[0;34m(\u001b[0m\u001b[0;34m)\u001b[0m\u001b[0;34m\u001b[0m\u001b[0;34m\u001b[0m\u001b[0m\n\u001b[1;32m      3\u001b[0m     \u001b[0mprint\u001b[0m\u001b[0;34m(\u001b[0m\u001b[0mcontent\u001b[0m\u001b[0;34m)\u001b[0m\u001b[0;34m\u001b[0m\u001b[0;34m\u001b[0m\u001b[0m\n",
            "\u001b[0;31mFileNotFoundError\u001b[0m: [Errno 2] No such file or directory: 'my_file.txt'"
          ]
        }
      ]
    },
    {
      "cell_type": "markdown",
      "source": [
        "21. Write a Python program that reads a file and prints the number of occurrences of a specific word.\n",
        "\n"
      ],
      "metadata": {
        "id": "Oc7wb16IbmYT"
      }
    },
    {
      "cell_type": "code",
      "source": [
        "def count_word_occurrences(filename, word):\n",
        "    count = 0\n",
        "    with open(filename, 'r') as file:\n",
        "        for line in file:\n",
        "            words = line.split()\n",
        "            count += words.count(word)\n",
        "    return count\n",
        "\n",
        "filename = 'my_file.txt'\n",
        "word = 'the'\n",
        "occurrences = count_word_occurrences(filename, word)\n",
        "print(f\"The word '{word}' occurs {occurrences} times in the file.\")"
      ],
      "metadata": {
        "colab": {
          "base_uri": "https://localhost:8080/",
          "height": 315
        },
        "id": "DmV40fJcbpJd",
        "outputId": "1298590a-78a9-4d5f-a045-38276bf2576d"
      },
      "execution_count": 10,
      "outputs": [
        {
          "output_type": "error",
          "ename": "FileNotFoundError",
          "evalue": "[Errno 2] No such file or directory: 'my_file.txt'",
          "traceback": [
            "\u001b[0;31m---------------------------------------------------------------------------\u001b[0m",
            "\u001b[0;31mFileNotFoundError\u001b[0m                         Traceback (most recent call last)",
            "\u001b[0;32m<ipython-input-10-249c83d67724>\u001b[0m in \u001b[0;36m<cell line: 0>\u001b[0;34m()\u001b[0m\n\u001b[1;32m      9\u001b[0m \u001b[0mfilename\u001b[0m \u001b[0;34m=\u001b[0m \u001b[0;34m'my_file.txt'\u001b[0m\u001b[0;34m\u001b[0m\u001b[0;34m\u001b[0m\u001b[0m\n\u001b[1;32m     10\u001b[0m \u001b[0mword\u001b[0m \u001b[0;34m=\u001b[0m \u001b[0;34m'the'\u001b[0m\u001b[0;34m\u001b[0m\u001b[0;34m\u001b[0m\u001b[0m\n\u001b[0;32m---> 11\u001b[0;31m \u001b[0moccurrences\u001b[0m \u001b[0;34m=\u001b[0m \u001b[0mcount_word_occurrences\u001b[0m\u001b[0;34m(\u001b[0m\u001b[0mfilename\u001b[0m\u001b[0;34m,\u001b[0m \u001b[0mword\u001b[0m\u001b[0;34m)\u001b[0m\u001b[0;34m\u001b[0m\u001b[0;34m\u001b[0m\u001b[0m\n\u001b[0m\u001b[1;32m     12\u001b[0m \u001b[0mprint\u001b[0m\u001b[0;34m(\u001b[0m\u001b[0;34mf\"The word '{word}' occurs {occurrences} times in the file.\"\u001b[0m\u001b[0;34m)\u001b[0m\u001b[0;34m\u001b[0m\u001b[0;34m\u001b[0m\u001b[0m\n",
            "\u001b[0;32m<ipython-input-10-249c83d67724>\u001b[0m in \u001b[0;36mcount_word_occurrences\u001b[0;34m(filename, word)\u001b[0m\n\u001b[1;32m      1\u001b[0m \u001b[0;32mdef\u001b[0m \u001b[0mcount_word_occurrences\u001b[0m\u001b[0;34m(\u001b[0m\u001b[0mfilename\u001b[0m\u001b[0;34m,\u001b[0m \u001b[0mword\u001b[0m\u001b[0;34m)\u001b[0m\u001b[0;34m:\u001b[0m\u001b[0;34m\u001b[0m\u001b[0;34m\u001b[0m\u001b[0m\n\u001b[1;32m      2\u001b[0m     \u001b[0mcount\u001b[0m \u001b[0;34m=\u001b[0m \u001b[0;36m0\u001b[0m\u001b[0;34m\u001b[0m\u001b[0;34m\u001b[0m\u001b[0m\n\u001b[0;32m----> 3\u001b[0;31m     \u001b[0;32mwith\u001b[0m \u001b[0mopen\u001b[0m\u001b[0;34m(\u001b[0m\u001b[0mfilename\u001b[0m\u001b[0;34m,\u001b[0m \u001b[0;34m'r'\u001b[0m\u001b[0;34m)\u001b[0m \u001b[0;32mas\u001b[0m \u001b[0mfile\u001b[0m\u001b[0;34m:\u001b[0m\u001b[0;34m\u001b[0m\u001b[0;34m\u001b[0m\u001b[0m\n\u001b[0m\u001b[1;32m      4\u001b[0m         \u001b[0;32mfor\u001b[0m \u001b[0mline\u001b[0m \u001b[0;32min\u001b[0m \u001b[0mfile\u001b[0m\u001b[0;34m:\u001b[0m\u001b[0;34m\u001b[0m\u001b[0;34m\u001b[0m\u001b[0m\n\u001b[1;32m      5\u001b[0m             \u001b[0mwords\u001b[0m \u001b[0;34m=\u001b[0m \u001b[0mline\u001b[0m\u001b[0;34m.\u001b[0m\u001b[0msplit\u001b[0m\u001b[0;34m(\u001b[0m\u001b[0;34m)\u001b[0m\u001b[0;34m\u001b[0m\u001b[0;34m\u001b[0m\u001b[0m\n",
            "\u001b[0;31mFileNotFoundError\u001b[0m: [Errno 2] No such file or directory: 'my_file.txt'"
          ]
        }
      ]
    },
    {
      "cell_type": "markdown",
      "source": [
        "22. How can you check if a file is empty before attempting to read its contents?"
      ],
      "metadata": {
        "id": "bNuyH7FEbwl6"
      }
    },
    {
      "cell_type": "code",
      "source": [
        "import os\n",
        "\n",
        "if os.path.getsize('my_file.txt') == 0:\n",
        "    print(\"File is empty.\")\n",
        "else:\n",
        "    # Read the file"
      ],
      "metadata": {
        "colab": {
          "base_uri": "https://localhost:8080/",
          "height": 106
        },
        "id": "ILF5n35Ybxtm",
        "outputId": "979225be-be70-4407-ac47-e6ad1df8bd71"
      },
      "execution_count": 11,
      "outputs": [
        {
          "output_type": "error",
          "ename": "SyntaxError",
          "evalue": "incomplete input (<ipython-input-11-946bf2b200ce>, line 6)",
          "traceback": [
            "\u001b[0;36m  File \u001b[0;32m\"<ipython-input-11-946bf2b200ce>\"\u001b[0;36m, line \u001b[0;32m6\u001b[0m\n\u001b[0;31m    # Read the file\u001b[0m\n\u001b[0m                   ^\u001b[0m\n\u001b[0;31mSyntaxError\u001b[0m\u001b[0;31m:\u001b[0m incomplete input\n"
          ]
        }
      ]
    },
    {
      "cell_type": "markdown",
      "source": [
        "23. Write a Python program that writes to a log file when an error occurs during file handling."
      ],
      "metadata": {
        "id": "kFkPGpXVb1bB"
      }
    },
    {
      "cell_type": "code",
      "source": [
        "import logging\n",
        "\n",
        "logging.basicConfig(filename='file_handling_errors.log', level=logging.ERROR)\n",
        "\n",
        "try:\n",
        "    with open('my_file.txt', 'r') as file:\n",
        "        data = file.read()\n",
        "except FileNotFoundError:\n",
        "    logging.error(\"File not found.\")\n",
        "except IOError:"
      ],
      "metadata": {
        "id": "-pKAL94zb3ce"
      },
      "execution_count": null,
      "outputs": []
    }
  ]
}